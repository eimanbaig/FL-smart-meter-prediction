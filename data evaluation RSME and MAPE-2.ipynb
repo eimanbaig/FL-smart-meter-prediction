{
 "cells": [
  {
   "cell_type": "code",
   "execution_count": 11,
   "id": "32004914",
   "metadata": {},
   "outputs": [],
   "source": [
    "import pandas as pd\n",
    "from os import listdir\n",
    "from os.path import isfile, join\n",
    "import math\n",
    "import numpy as np"
   ]
  },
  {
   "cell_type": "code",
   "execution_count": 12,
   "id": "8f84ece4",
   "metadata": {},
   "outputs": [],
   "source": [
    "def rmse(predictions, targets):\n",
    "    sum=0\n",
    "    for i in range (len(predictions)):\n",
    "        for j in range (len(predictions[0])):\n",
    "            value = (predictions[i][j]-targets[i][j])**2\n",
    "            sum+=value\n",
    "    return math.sqrt(sum/(len(predictions)*len(predictions[0])))\n",
    "\n",
    "def MAPE(pred, y_test):\n",
    "    y_test, pred = np.array(y_test), np.array(pred)\n",
    "    mape = np.mean(np.abs((y_test - pred) / y_test))\n",
    "    return mape\n",
    "# symetric MAPE\n",
    "# def MAPE(predictions, targets):\n",
    "#     sum=0\n",
    "#     N = (len(predictions)*len(predictions[0]))\n",
    "#     for i in range (len(predictions)):\n",
    "#         for j in range (len(predictions[0])):\n",
    "#             if targets[i][j] <= 0.00001:\n",
    "#                 N -= 1\n",
    "#                 continue\n",
    "#             value = abs(predictions[i][j]-targets[i][j]) / (abs(predictions[i][j]) + abs(targets[i][j]))\n",
    "#             if value > 1:\n",
    "#                 print(i, j, predictions[i][j], targets[i][j], predictions[i][j] - targets[i][j])\n",
    "#             sum+=value\n",
    "#     return (sum/N)*100 "
   ]
  },
  {
   "cell_type": "code",
   "execution_count": 13,
   "id": "b23a09fc",
   "metadata": {},
   "outputs": [],
   "source": [
    "def make_clust_w_csv(clusters, onlyfiles):    \n",
    "    new = []\n",
    "    for i in range(len(clusters)):\n",
    "        new.append([])\n",
    "\n",
    "    num_clust =0\n",
    "    num_in_clust=0\n",
    "\n",
    "    for i in clusters:\n",
    "        num_clust+=1\n",
    "        for k in i:\n",
    "            num_in_clust+=1\n",
    "            for j in onlyfiles:\n",
    "                if j[:4]==k[:4]:\n",
    "                    new[num_clust-1].append(j)\n",
    "    return new"
   ]
  },
  {
   "cell_type": "code",
   "execution_count": 14,
   "id": "f5e601dd",
   "metadata": {
    "scrolled": true
   },
   "outputs": [],
   "source": [
    "def results(clusters, only_files_dir, test_files_dir, method_name, number_clusters):\n",
    "    onlyfiles = [f for f in listdir(only_files_dir) if isfile(join(only_files_dir, f))and f[-4:]==\".csv\"]\n",
    "    csv_clusters = make_clust_w_csv(clusters, onlyfiles)\n",
    "    # average per cluster\n",
    "    rm3 = []\n",
    "    for i in range(len(clusters)):\n",
    "        rm3.append([])\n",
    "    rm4 = []\n",
    "    for i in range(len(clusters)):\n",
    "        rm4.append([])\n",
    "\n",
    "    num_of_clust=0\n",
    "    for i in csv_clusters:\n",
    "        num_of_clust+=1\n",
    "        for j in i:\n",
    "            pred_df = pd.read_csv(only_files_dir+'/'+j, index_col=0)\n",
    "            test_df = pd.read_csv(test_files_dir+j, index_col=0)\n",
    "            pred = [pred_df.iloc()[i].tolist() for i in range(len(pred_df))]\n",
    "            test = [test_df.iloc()[i].tolist() for i in range(len(test_df))]\n",
    "            rm3[num_of_clust-1].append(rmse(pred,test))\n",
    "            rm4[num_of_clust-1].append(MAPE(pred,test))\n",
    "\n",
    "    print(method_name+\" - CLUSTERS = \"+ number_clusters)\n",
    "    print(\"\\nRSME PER CLUSTER:\")\n",
    "    for i in range(len(rm3)):\n",
    "        if (sum(rm3[i]))==0:\n",
    "            print('0')\n",
    "        else:\n",
    "            print(sum(rm3[i])/len(rm3[i]))\n",
    "    print(\"\\nMAPE PER CLUSTER:\")\n",
    "    for i in range(len(rm4)):\n",
    "        if (sum(rm4[i]))==0:\n",
    "            print('0')\n",
    "        else:\n",
    "            print(sum(rm4[i])/len(rm4[i]))\n",
    "\n",
    "# def results_overall(onlyfiles, only_files_dir, test_files_dir):  overall average\n",
    "\n",
    "#     onlyfiles = [f for f in listdir(only_files_dir) if isfile(join(only_files_dir, f))]\n",
    "    rm1=[]\n",
    "    rm2=[]\n",
    "    for f in onlyfiles:\n",
    "        pred_df = pd.read_csv(only_files_dir+'/'+f, index_col=0)\n",
    "        test_df = pd.read_csv(test_files_dir+f, index_col=0)\n",
    "        pred = [pred_df.iloc()[i].tolist() for i in range(len(pred_df))]\n",
    "        test = [test_df.iloc()[i].tolist() for i in range(len(test_df))]\n",
    "        rm1.append(rmse(pred,test))\n",
    "        rm2.append(MAPE(pred,test))\n",
    "    print(\"\\nOverall RMSE: \", sum(rm1)/len(rm1))\n",
    "    print(\"Overall MAPE: \", sum(rm2)/len(rm2))\n",
    "# overall RMSE and MAPE are not averages of each cluster, they are a total average\n"
   ]
  },
  {
   "cell_type": "code",
   "execution_count": 15,
   "id": "79d776ac",
   "metadata": {
    "scrolled": true
   },
   "outputs": [
    {
     "name": "stderr",
     "output_type": "stream",
     "text": [
      "/var/folders/by/4rt6rrtn24n6r36ktnkzt6q00000gn/T/ipykernel_60502/609455256.py:11: RuntimeWarning: divide by zero encountered in true_divide\n",
      "  mape = np.mean(np.abs((y_test - pred) / y_test))\n",
      "/var/folders/by/4rt6rrtn24n6r36ktnkzt6q00000gn/T/ipykernel_60502/609455256.py:11: RuntimeWarning: divide by zero encountered in true_divide\n",
      "  mape = np.mean(np.abs((y_test - pred) / y_test))\n",
      "/var/folders/by/4rt6rrtn24n6r36ktnkzt6q00000gn/T/ipykernel_60502/609455256.py:11: RuntimeWarning: divide by zero encountered in true_divide\n",
      "  mape = np.mean(np.abs((y_test - pred) / y_test))\n",
      "/var/folders/by/4rt6rrtn24n6r36ktnkzt6q00000gn/T/ipykernel_60502/609455256.py:11: RuntimeWarning: divide by zero encountered in true_divide\n",
      "  mape = np.mean(np.abs((y_test - pred) / y_test))\n",
      "/var/folders/by/4rt6rrtn24n6r36ktnkzt6q00000gn/T/ipykernel_60502/609455256.py:11: RuntimeWarning: divide by zero encountered in true_divide\n",
      "  mape = np.mean(np.abs((y_test - pred) / y_test))\n",
      "/var/folders/by/4rt6rrtn24n6r36ktnkzt6q00000gn/T/ipykernel_60502/609455256.py:11: RuntimeWarning: divide by zero encountered in true_divide\n",
      "  mape = np.mean(np.abs((y_test - pred) / y_test))\n",
      "/var/folders/by/4rt6rrtn24n6r36ktnkzt6q00000gn/T/ipykernel_60502/609455256.py:11: RuntimeWarning: divide by zero encountered in true_divide\n",
      "  mape = np.mean(np.abs((y_test - pred) / y_test))\n",
      "/var/folders/by/4rt6rrtn24n6r36ktnkzt6q00000gn/T/ipykernel_60502/609455256.py:11: RuntimeWarning: divide by zero encountered in true_divide\n",
      "  mape = np.mean(np.abs((y_test - pred) / y_test))\n",
      "/var/folders/by/4rt6rrtn24n6r36ktnkzt6q00000gn/T/ipykernel_60502/609455256.py:11: RuntimeWarning: divide by zero encountered in true_divide\n",
      "  mape = np.mean(np.abs((y_test - pred) / y_test))\n",
      "/var/folders/by/4rt6rrtn24n6r36ktnkzt6q00000gn/T/ipykernel_60502/609455256.py:11: RuntimeWarning: divide by zero encountered in true_divide\n",
      "  mape = np.mean(np.abs((y_test - pred) / y_test))\n",
      "/var/folders/by/4rt6rrtn24n6r36ktnkzt6q00000gn/T/ipykernel_60502/609455256.py:11: RuntimeWarning: divide by zero encountered in true_divide\n",
      "  mape = np.mean(np.abs((y_test - pred) / y_test))\n",
      "/var/folders/by/4rt6rrtn24n6r36ktnkzt6q00000gn/T/ipykernel_60502/609455256.py:11: RuntimeWarning: divide by zero encountered in true_divide\n",
      "  mape = np.mean(np.abs((y_test - pred) / y_test))\n",
      "/var/folders/by/4rt6rrtn24n6r36ktnkzt6q00000gn/T/ipykernel_60502/609455256.py:11: RuntimeWarning: divide by zero encountered in true_divide\n",
      "  mape = np.mean(np.abs((y_test - pred) / y_test))\n",
      "/var/folders/by/4rt6rrtn24n6r36ktnkzt6q00000gn/T/ipykernel_60502/609455256.py:11: RuntimeWarning: divide by zero encountered in true_divide\n",
      "  mape = np.mean(np.abs((y_test - pred) / y_test))\n",
      "/var/folders/by/4rt6rrtn24n6r36ktnkzt6q00000gn/T/ipykernel_60502/609455256.py:11: RuntimeWarning: divide by zero encountered in true_divide\n",
      "  mape = np.mean(np.abs((y_test - pred) / y_test))\n",
      "/var/folders/by/4rt6rrtn24n6r36ktnkzt6q00000gn/T/ipykernel_60502/609455256.py:11: RuntimeWarning: divide by zero encountered in true_divide\n",
      "  mape = np.mean(np.abs((y_test - pred) / y_test))\n",
      "/var/folders/by/4rt6rrtn24n6r36ktnkzt6q00000gn/T/ipykernel_60502/609455256.py:11: RuntimeWarning: divide by zero encountered in true_divide\n",
      "  mape = np.mean(np.abs((y_test - pred) / y_test))\n",
      "/var/folders/by/4rt6rrtn24n6r36ktnkzt6q00000gn/T/ipykernel_60502/609455256.py:11: RuntimeWarning: divide by zero encountered in true_divide\n",
      "  mape = np.mean(np.abs((y_test - pred) / y_test))\n",
      "/var/folders/by/4rt6rrtn24n6r36ktnkzt6q00000gn/T/ipykernel_60502/609455256.py:11: RuntimeWarning: divide by zero encountered in true_divide\n",
      "  mape = np.mean(np.abs((y_test - pred) / y_test))\n",
      "/var/folders/by/4rt6rrtn24n6r36ktnkzt6q00000gn/T/ipykernel_60502/609455256.py:11: RuntimeWarning: divide by zero encountered in true_divide\n",
      "  mape = np.mean(np.abs((y_test - pred) / y_test))\n",
      "/var/folders/by/4rt6rrtn24n6r36ktnkzt6q00000gn/T/ipykernel_60502/609455256.py:11: RuntimeWarning: divide by zero encountered in true_divide\n",
      "  mape = np.mean(np.abs((y_test - pred) / y_test))\n",
      "/var/folders/by/4rt6rrtn24n6r36ktnkzt6q00000gn/T/ipykernel_60502/609455256.py:11: RuntimeWarning: divide by zero encountered in true_divide\n",
      "  mape = np.mean(np.abs((y_test - pred) / y_test))\n",
      "/var/folders/by/4rt6rrtn24n6r36ktnkzt6q00000gn/T/ipykernel_60502/609455256.py:11: RuntimeWarning: divide by zero encountered in true_divide\n",
      "  mape = np.mean(np.abs((y_test - pred) / y_test))\n",
      "/var/folders/by/4rt6rrtn24n6r36ktnkzt6q00000gn/T/ipykernel_60502/609455256.py:11: RuntimeWarning: divide by zero encountered in true_divide\n",
      "  mape = np.mean(np.abs((y_test - pred) / y_test))\n",
      "/var/folders/by/4rt6rrtn24n6r36ktnkzt6q00000gn/T/ipykernel_60502/609455256.py:11: RuntimeWarning: divide by zero encountered in true_divide\n",
      "  mape = np.mean(np.abs((y_test - pred) / y_test))\n",
      "/var/folders/by/4rt6rrtn24n6r36ktnkzt6q00000gn/T/ipykernel_60502/609455256.py:11: RuntimeWarning: divide by zero encountered in true_divide\n",
      "  mape = np.mean(np.abs((y_test - pred) / y_test))\n",
      "/var/folders/by/4rt6rrtn24n6r36ktnkzt6q00000gn/T/ipykernel_60502/609455256.py:11: RuntimeWarning: divide by zero encountered in true_divide\n",
      "  mape = np.mean(np.abs((y_test - pred) / y_test))\n",
      "/var/folders/by/4rt6rrtn24n6r36ktnkzt6q00000gn/T/ipykernel_60502/609455256.py:11: RuntimeWarning: divide by zero encountered in true_divide\n",
      "  mape = np.mean(np.abs((y_test - pred) / y_test))\n",
      "/var/folders/by/4rt6rrtn24n6r36ktnkzt6q00000gn/T/ipykernel_60502/609455256.py:11: RuntimeWarning: divide by zero encountered in true_divide\n",
      "  mape = np.mean(np.abs((y_test - pred) / y_test))\n",
      "/var/folders/by/4rt6rrtn24n6r36ktnkzt6q00000gn/T/ipykernel_60502/609455256.py:11: RuntimeWarning: divide by zero encountered in true_divide\n",
      "  mape = np.mean(np.abs((y_test - pred) / y_test))\n",
      "/var/folders/by/4rt6rrtn24n6r36ktnkzt6q00000gn/T/ipykernel_60502/609455256.py:11: RuntimeWarning: divide by zero encountered in true_divide\n",
      "  mape = np.mean(np.abs((y_test - pred) / y_test))\n"
     ]
    },
    {
     "name": "stdout",
     "output_type": "stream",
     "text": [
      "K-MEANS - CLUSTERS = 4\n",
      "\n",
      "RSME PER CLUSTER:\n",
      "0.6590050576280978\n",
      "0.7969437889497281\n",
      "0.9370098144854986\n",
      "1.0081275053750072\n",
      "\n",
      "MAPE PER CLUSTER:\n",
      "inf\n",
      "inf\n",
      "inf\n",
      "1.6977635673680322\n"
     ]
    },
    {
     "name": "stderr",
     "output_type": "stream",
     "text": [
      "/var/folders/by/4rt6rrtn24n6r36ktnkzt6q00000gn/T/ipykernel_60502/609455256.py:11: RuntimeWarning: divide by zero encountered in true_divide\n",
      "  mape = np.mean(np.abs((y_test - pred) / y_test))\n",
      "/var/folders/by/4rt6rrtn24n6r36ktnkzt6q00000gn/T/ipykernel_60502/609455256.py:11: RuntimeWarning: divide by zero encountered in true_divide\n",
      "  mape = np.mean(np.abs((y_test - pred) / y_test))\n",
      "/var/folders/by/4rt6rrtn24n6r36ktnkzt6q00000gn/T/ipykernel_60502/609455256.py:11: RuntimeWarning: divide by zero encountered in true_divide\n",
      "  mape = np.mean(np.abs((y_test - pred) / y_test))\n",
      "/var/folders/by/4rt6rrtn24n6r36ktnkzt6q00000gn/T/ipykernel_60502/609455256.py:11: RuntimeWarning: divide by zero encountered in true_divide\n",
      "  mape = np.mean(np.abs((y_test - pred) / y_test))\n",
      "/var/folders/by/4rt6rrtn24n6r36ktnkzt6q00000gn/T/ipykernel_60502/609455256.py:11: RuntimeWarning: divide by zero encountered in true_divide\n",
      "  mape = np.mean(np.abs((y_test - pred) / y_test))\n",
      "/var/folders/by/4rt6rrtn24n6r36ktnkzt6q00000gn/T/ipykernel_60502/609455256.py:11: RuntimeWarning: divide by zero encountered in true_divide\n",
      "  mape = np.mean(np.abs((y_test - pred) / y_test))\n",
      "/var/folders/by/4rt6rrtn24n6r36ktnkzt6q00000gn/T/ipykernel_60502/609455256.py:11: RuntimeWarning: divide by zero encountered in true_divide\n",
      "  mape = np.mean(np.abs((y_test - pred) / y_test))\n",
      "/var/folders/by/4rt6rrtn24n6r36ktnkzt6q00000gn/T/ipykernel_60502/609455256.py:11: RuntimeWarning: divide by zero encountered in true_divide\n",
      "  mape = np.mean(np.abs((y_test - pred) / y_test))\n",
      "/var/folders/by/4rt6rrtn24n6r36ktnkzt6q00000gn/T/ipykernel_60502/609455256.py:11: RuntimeWarning: divide by zero encountered in true_divide\n",
      "  mape = np.mean(np.abs((y_test - pred) / y_test))\n",
      "/var/folders/by/4rt6rrtn24n6r36ktnkzt6q00000gn/T/ipykernel_60502/609455256.py:11: RuntimeWarning: divide by zero encountered in true_divide\n",
      "  mape = np.mean(np.abs((y_test - pred) / y_test))\n",
      "/var/folders/by/4rt6rrtn24n6r36ktnkzt6q00000gn/T/ipykernel_60502/609455256.py:11: RuntimeWarning: divide by zero encountered in true_divide\n",
      "  mape = np.mean(np.abs((y_test - pred) / y_test))\n",
      "/var/folders/by/4rt6rrtn24n6r36ktnkzt6q00000gn/T/ipykernel_60502/609455256.py:11: RuntimeWarning: divide by zero encountered in true_divide\n",
      "  mape = np.mean(np.abs((y_test - pred) / y_test))\n",
      "/var/folders/by/4rt6rrtn24n6r36ktnkzt6q00000gn/T/ipykernel_60502/609455256.py:11: RuntimeWarning: divide by zero encountered in true_divide\n",
      "  mape = np.mean(np.abs((y_test - pred) / y_test))\n",
      "/var/folders/by/4rt6rrtn24n6r36ktnkzt6q00000gn/T/ipykernel_60502/609455256.py:11: RuntimeWarning: divide by zero encountered in true_divide\n",
      "  mape = np.mean(np.abs((y_test - pred) / y_test))\n",
      "/var/folders/by/4rt6rrtn24n6r36ktnkzt6q00000gn/T/ipykernel_60502/609455256.py:11: RuntimeWarning: divide by zero encountered in true_divide\n",
      "  mape = np.mean(np.abs((y_test - pred) / y_test))\n",
      "/var/folders/by/4rt6rrtn24n6r36ktnkzt6q00000gn/T/ipykernel_60502/609455256.py:11: RuntimeWarning: divide by zero encountered in true_divide\n",
      "  mape = np.mean(np.abs((y_test - pred) / y_test))\n",
      "/var/folders/by/4rt6rrtn24n6r36ktnkzt6q00000gn/T/ipykernel_60502/609455256.py:11: RuntimeWarning: divide by zero encountered in true_divide\n",
      "  mape = np.mean(np.abs((y_test - pred) / y_test))\n",
      "/var/folders/by/4rt6rrtn24n6r36ktnkzt6q00000gn/T/ipykernel_60502/609455256.py:11: RuntimeWarning: divide by zero encountered in true_divide\n",
      "  mape = np.mean(np.abs((y_test - pred) / y_test))\n",
      "/var/folders/by/4rt6rrtn24n6r36ktnkzt6q00000gn/T/ipykernel_60502/609455256.py:11: RuntimeWarning: divide by zero encountered in true_divide\n",
      "  mape = np.mean(np.abs((y_test - pred) / y_test))\n",
      "/var/folders/by/4rt6rrtn24n6r36ktnkzt6q00000gn/T/ipykernel_60502/609455256.py:11: RuntimeWarning: divide by zero encountered in true_divide\n",
      "  mape = np.mean(np.abs((y_test - pred) / y_test))\n",
      "/var/folders/by/4rt6rrtn24n6r36ktnkzt6q00000gn/T/ipykernel_60502/609455256.py:11: RuntimeWarning: divide by zero encountered in true_divide\n",
      "  mape = np.mean(np.abs((y_test - pred) / y_test))\n",
      "/var/folders/by/4rt6rrtn24n6r36ktnkzt6q00000gn/T/ipykernel_60502/609455256.py:11: RuntimeWarning: divide by zero encountered in true_divide\n",
      "  mape = np.mean(np.abs((y_test - pred) / y_test))\n",
      "/var/folders/by/4rt6rrtn24n6r36ktnkzt6q00000gn/T/ipykernel_60502/609455256.py:11: RuntimeWarning: divide by zero encountered in true_divide\n",
      "  mape = np.mean(np.abs((y_test - pred) / y_test))\n",
      "/var/folders/by/4rt6rrtn24n6r36ktnkzt6q00000gn/T/ipykernel_60502/609455256.py:11: RuntimeWarning: divide by zero encountered in true_divide\n",
      "  mape = np.mean(np.abs((y_test - pred) / y_test))\n",
      "/var/folders/by/4rt6rrtn24n6r36ktnkzt6q00000gn/T/ipykernel_60502/609455256.py:11: RuntimeWarning: divide by zero encountered in true_divide\n",
      "  mape = np.mean(np.abs((y_test - pred) / y_test))\n",
      "/var/folders/by/4rt6rrtn24n6r36ktnkzt6q00000gn/T/ipykernel_60502/609455256.py:11: RuntimeWarning: divide by zero encountered in true_divide\n",
      "  mape = np.mean(np.abs((y_test - pred) / y_test))\n",
      "/var/folders/by/4rt6rrtn24n6r36ktnkzt6q00000gn/T/ipykernel_60502/609455256.py:11: RuntimeWarning: divide by zero encountered in true_divide\n",
      "  mape = np.mean(np.abs((y_test - pred) / y_test))\n",
      "/var/folders/by/4rt6rrtn24n6r36ktnkzt6q00000gn/T/ipykernel_60502/609455256.py:11: RuntimeWarning: divide by zero encountered in true_divide\n",
      "  mape = np.mean(np.abs((y_test - pred) / y_test))\n",
      "/var/folders/by/4rt6rrtn24n6r36ktnkzt6q00000gn/T/ipykernel_60502/609455256.py:11: RuntimeWarning: divide by zero encountered in true_divide\n",
      "  mape = np.mean(np.abs((y_test - pred) / y_test))\n",
      "/var/folders/by/4rt6rrtn24n6r36ktnkzt6q00000gn/T/ipykernel_60502/609455256.py:11: RuntimeWarning: divide by zero encountered in true_divide\n",
      "  mape = np.mean(np.abs((y_test - pred) / y_test))\n",
      "/var/folders/by/4rt6rrtn24n6r36ktnkzt6q00000gn/T/ipykernel_60502/609455256.py:11: RuntimeWarning: divide by zero encountered in true_divide\n",
      "  mape = np.mean(np.abs((y_test - pred) / y_test))\n"
     ]
    },
    {
     "name": "stdout",
     "output_type": "stream",
     "text": [
      "\n",
      "Overall RMSE:  0.8125550319821396\n",
      "Overall MAPE:  inf\n"
     ]
    }
   ],
   "source": [
    "clusters = [['3081.txt', '1318.txt', '2202.txt', '2574.txt', '4111.txt', '1727.txt', '1055.txt', '3871.txt', '2776.txt', '3050.txt', '3133.txt', '3046.txt', '3195.txt', '3585.txt', '2922.txt', '3427.txt', '1143.txt', '1343.txt', '2474.txt', '1627.txt', '2065.txt', '2529.txt', '2647.txt', '3405.txt', '3820.txt', '3599.txt', '2536.txt', '3167.txt', '1980.txt', '3617.txt', '2680.txt', '3777.txt', '1809.txt', '1660.txt', '1059.txt', '2791.txt', '2828.txt', '2964.txt', '1840.txt', '1711.txt', '1117.txt', '3073.txt'], \n",
    "            ['3041.txt', '1447.txt', '3330.txt', '4163.txt', '4121.txt', '2838.txt'], \n",
    "            ['4076.txt', '2407.txt', '3296.txt', '3447.txt', '4049.txt', '1904.txt', '1086.txt', '4129.txt', '3497.txt', '3910.txt', '2239.txt', '1081.txt', '1839.txt', '3036.txt', '2315.txt', '2301.txt', '2067.txt', '1180.txt', '1619.txt', '2304.txt', '3346.txt', '3781.txt', '2893.txt', '2501.txt', '1950.txt', '2685.txt', '2121.txt', '2519.txt', '3349.txt', '1827.txt', '2081.txt', '2522.txt', '1610.txt', '3359.txt', '1404.txt', '1834.txt', '2235.txt', '1113.txt', '3843.txt', '2593.txt', '1515.txt', '2424.txt', '4055.txt', '1312.txt', '3931.txt', '1115.txt', '3884.txt', '1063.txt', '2595.txt', '2436.txt', '2153.txt'], \n",
    "            ['1330.txt']]\n",
    "results(clusters, './num_clust_four_100/pred-kmeans', './num_clust_four_100/test-kmeans/', \"K-MEANS\", \"4\")"
   ]
  },
  {
   "cell_type": "code",
   "execution_count": 8,
   "id": "d88627d0",
   "metadata": {},
   "outputs": [
    {
     "name": "stdout",
     "output_type": "stream",
     "text": [
      "FUZZY C-MEANS - CLUSTERS = 4\n",
      "\n",
      "RSME PER CLUSTER:\n",
      "0.8244387554298852\n",
      "0.589257271733861\n",
      "0.9179687988684614\n",
      "1.0921533529103955\n",
      "\n",
      "MAPE PER CLUSTER:\n",
      "34.61727011192881\n",
      "43.61161381471913\n",
      "37.33670123101171\n",
      "45.20309673411664\n",
      "\n",
      "Overall RMSE:  0.8372550066481412\n",
      "Overall MAPE:  37.79348560987798\n"
     ]
    }
   ],
   "source": [
    "clusters = [['3081.txt', '2202.txt', '4129.txt', '4111.txt', '1055.txt', '3871.txt', '2776.txt', '3050.txt', '3133.txt', '3046.txt', '1839.txt', '3585.txt', '3036.txt', '2315.txt', '3427.txt', '1180.txt', '1343.txt', '2065.txt', '2529.txt', '3820.txt', '3599.txt', '3167.txt', '1980.txt', '3617.txt', '2680.txt', '3777.txt', '1809.txt', '2791.txt', '2828.txt', '2964.txt', '3931.txt', '1711.txt', '1117.txt', '3073.txt'], \n",
    "            ['1318.txt', '2574.txt', '1727.txt', '1447.txt', '3195.txt', '2922.txt', '1143.txt', '2474.txt', '1627.txt', '2647.txt', '3405.txt', '2536.txt', '1660.txt', '1059.txt', '4121.txt', '2838.txt', '1840.txt'], \n",
    "            ['4076.txt', '2407.txt', '3296.txt', '3447.txt', '4049.txt', '1904.txt', '1086.txt', '3497.txt', '3910.txt', '2239.txt', '1081.txt', '2301.txt', '2067.txt', '1619.txt', '2304.txt', '3346.txt', '3781.txt', '2893.txt', '2501.txt', '1950.txt', '2685.txt', '2121.txt', '2519.txt', '3349.txt', '1827.txt', '2081.txt', '2522.txt', '1610.txt', '3359.txt', '1404.txt', '1834.txt', '2235.txt', '1113.txt', '3843.txt', '2593.txt', '1515.txt', '2424.txt', '4055.txt', '1312.txt', '1115.txt', '3884.txt', '1063.txt', '2595.txt', '2436.txt', '2153.txt'], \n",
    "            ['1330.txt', '3041.txt', '3330.txt', '4163.txt']]\n",
    "results(clusters, './num_clust_four_100/pred-fuzzycmeans', './num_clust_four_100/test-fuzzycmeans/', \"FUZZY C-MEANS\", \"4\")\n"
   ]
  },
  {
   "cell_type": "code",
   "execution_count": 9,
   "id": "f21a1358",
   "metadata": {},
   "outputs": [
    {
     "name": "stdout",
     "output_type": "stream",
     "text": [
      "HIERARCHICAL - CLUSTERS = 4\n",
      "\n",
      "RSME PER CLUSTER:\n",
      "0.7210401969147154\n",
      "0.9072754106139146\n",
      "2.8048200898274978\n",
      "0.6430403645060484\n",
      "\n",
      "MAPE PER CLUSTER:\n",
      "43.935180654807276\n",
      "37.37675221398496\n",
      "35.64522098301879\n",
      "33.75890071549129\n",
      "\n",
      "Overall RMSE:  0.7961709738355589\n",
      "Overall MAPE:  36.12490943380248\n"
     ]
    }
   ],
   "source": [
    "clusters = [['3041.txt', '1447.txt', '3330.txt', '4163.txt', '4121.txt', '2838.txt'], \n",
    "            ['3081.txt', '4076.txt', '1318.txt', '2202.txt', '4129.txt', '2574.txt', '4111.txt', '1727.txt', '1055.txt', '3871.txt', '2776.txt', '3050.txt', '3133.txt', '3046.txt', '3195.txt', '3585.txt', '3036.txt', '2315.txt', '2922.txt', '3427.txt', '1180.txt', '1143.txt', '1343.txt', '2474.txt', '1627.txt', '2065.txt', '2529.txt', '2647.txt', '3405.txt', '3820.txt', '3599.txt', '2536.txt', '3167.txt', '1980.txt', '3617.txt', '2680.txt', '3777.txt', '1809.txt', '1660.txt', '1059.txt', '2791.txt', '2828.txt', '2964.txt', '3931.txt', '1840.txt', '1711.txt', '1117.txt', '3073.txt'],\n",
    "            ['1330.txt'], \n",
    "            ['2407.txt', '3296.txt', '3447.txt', '4049.txt', '1904.txt', '1086.txt', '3497.txt', '3910.txt', '2239.txt', '1081.txt', '1839.txt', '2301.txt', '2067.txt', '1619.txt', '2304.txt', '3346.txt', '3781.txt', '2893.txt', '2501.txt', '1950.txt', '2685.txt', '2121.txt', '2519.txt', '3349.txt', '1827.txt', '2081.txt', '2522.txt', '1610.txt', '3359.txt', '1404.txt', '1834.txt', '2235.txt', '1113.txt', '3843.txt', '2593.txt', '1515.txt', '2424.txt', '4055.txt', '1312.txt', '1115.txt', '3884.txt', '1063.txt', '2595.txt', '2436.txt', '2153.txt']]\n",
    "results(clusters, './num_clust_four_100/pred-hierarchical', './num_clust_four_100/test-hierarchical/', \"HIERARCHICAL\", \"4\")"
   ]
  },
  {
   "cell_type": "code",
   "execution_count": 5,
   "id": "b9e00db0",
   "metadata": {},
   "outputs": [
    {
     "name": "stdout",
     "output_type": "stream",
     "text": [
      "MINI BATCH K-MEANS - CLUSTERS = 4\n",
      "\n",
      "RSME PER CLUSTER:\n",
      "0.6662022732264837\n",
      "1.8212819456123377\n",
      "0.8658359477093075\n",
      "0.4766646477210249\n",
      "\n",
      "MAPE PER CLUSTER:\n",
      "35.888829702095386\n",
      "55.58971030166318\n",
      "36.355028904514285\n",
      "34.89925940851996\n",
      "\n",
      "Overall RMSE:  0.7911244740061498\n",
      "Overall MAPE:  37.107783237225945\n"
     ]
    }
   ],
   "source": [
    "clusters = [['1318.txt', '1330.txt', '3041.txt', '2574.txt', '1727.txt', '3871.txt', '2776.txt', '3050.txt', '3133.txt', '1447.txt', '3330.txt', '4163.txt', '3195.txt', '3585.txt', '2922.txt', '1143.txt', '1343.txt', '2474.txt', '1627.txt', '2529.txt', '2647.txt', '3405.txt', '2536.txt', '2680.txt', '3777.txt', '1660.txt', '1059.txt', '4121.txt', '2964.txt', '2838.txt', '1840.txt', '1711.txt', '3073.txt'],\n",
    "            ['2407.txt', '4049.txt', '1086.txt', '1113.txt', '2424.txt', '2153.txt'], \n",
    "            ['3081.txt', '4076.txt', '3296.txt', '3447.txt', '1904.txt', '2202.txt', '4129.txt', '4111.txt', '1055.txt', '1081.txt', '3046.txt', '1839.txt', '3036.txt', '2315.txt', '3427.txt', '1180.txt', '1619.txt', '3346.txt', '2893.txt', '2065.txt', '2501.txt', '1950.txt', '2121.txt', '3820.txt', '3349.txt', '3599.txt', '2081.txt', '2522.txt', '3359.txt', '3167.txt', '1980.txt', '3617.txt', '1809.txt', '1834.txt', '2235.txt', '3843.txt', '2791.txt', '2828.txt', '1312.txt', '3931.txt', '1063.txt', '2595.txt', '2436.txt', '1117.txt'], \n",
    "            ['3497.txt', '3910.txt', '2239.txt', '2301.txt', '2067.txt', '2304.txt', '3781.txt', '2685.txt', '2519.txt', '1827.txt', '1610.txt', '1404.txt', '2593.txt', '1515.txt', '4055.txt', '1115.txt', '3884.txt']]\n",
    "results(clusters, './num_clust_four_100/pred-minibatchkmeans', './num_clust_four_100/test-minibatchkmeans/', \"MINI BATCH K-MEANS\", \"4\")"
   ]
  },
  {
   "cell_type": "code",
   "execution_count": 6,
   "id": "bddd9861",
   "metadata": {},
   "outputs": [
    {
     "name": "stdout",
     "output_type": "stream",
     "text": [
      "K-MEANS - CLUSTERS = 5\n",
      "\n",
      "RSME PER CLUSTER:\n",
      "0.9703384225213082\n",
      "0.7676414201628501\n",
      "1.1031515980163864\n",
      "0.6638366505873614\n",
      "0.8085005145901432\n",
      "\n",
      "MAPE PER CLUSTER:\n",
      "36.740570616409435\n",
      "53.45696403126158\n",
      "48.7323506225751\n",
      "38.84967095758406\n",
      "42.68820111461214\n",
      "\n",
      "Overall RMSE:  0.8324083536995852\n",
      "Overall MAPE:  38.31854364798959\n"
     ]
    }
   ],
   "source": [
    "clusters = [['4076.txt', '2407.txt', '3296.txt', '3447.txt', '4049.txt', '1904.txt', '1086.txt', '4129.txt', '3497.txt', '3910.txt', '2239.txt', '1081.txt', '1839.txt', '3036.txt', '2315.txt', '2301.txt', '2067.txt', '1180.txt', '1619.txt', '2304.txt', '3346.txt', '3781.txt', '2893.txt', '2501.txt', '1950.txt', '2685.txt', '2121.txt', '2519.txt', '3349.txt', '1827.txt', '2081.txt', '2522.txt', '1610.txt', '3359.txt', '1404.txt', '1834.txt', '2235.txt', '1113.txt', '3843.txt', '2593.txt', '1515.txt', '2424.txt', '4055.txt', '1312.txt', '3931.txt', '1115.txt', '3884.txt', '1063.txt', '2595.txt', '2436.txt', '2153.txt'], \n",
    "            ['3041.txt', '4163.txt'], \n",
    "            ['1330.txt'], \n",
    "            ['3081.txt', '1318.txt', '2202.txt', '2574.txt', '4111.txt', '1727.txt', '1055.txt', '3871.txt', '2776.txt', '3050.txt', '3133.txt', '3046.txt', '3195.txt', '3585.txt', '2922.txt', '3427.txt', '1143.txt', '1343.txt', '2474.txt', '1627.txt', '2065.txt', '2529.txt', '2647.txt', '3405.txt', '3820.txt', '3599.txt', '2536.txt', '3167.txt', '1980.txt', '3617.txt', '2680.txt', '3777.txt', '1809.txt', '1660.txt', '1059.txt', '2791.txt', '2828.txt', '2964.txt', '1840.txt', '1711.txt', '1117.txt', '3073.txt'], \n",
    "            ['1447.txt', '3330.txt', '4121.txt', '2838.txt']]\n",
    "results(clusters, './num_clust_five_100/pred-kmeans', './num_clust_five_100/test-kmeans/', \"K-MEANS\", \"5\")"
   ]
  },
  {
   "cell_type": "code",
   "execution_count": 7,
   "id": "0421ad6d",
   "metadata": {},
   "outputs": [
    {
     "name": "stdout",
     "output_type": "stream",
     "text": [
      "FUZZY C-MEANS - CLUSTERS = 5\n",
      "\n",
      "RSME PER CLUSTER:\n",
      "0.6505012722528918\n",
      "0.6238447137083598\n",
      "1.2507535591936711\n",
      "1.0807840585621595\n",
      "0.7509992080952964\n",
      "\n",
      "MAPE PER CLUSTER:\n",
      "34.83374345085057\n",
      "39.81601613835626\n",
      "55.63247683855075\n",
      "37.16174670152773\n",
      "44.26203734789792\n",
      "\n",
      "Overall RMSE:  0.844413085729041\n",
      "Overall MAPE:  37.63630489801707\n"
     ]
    }
   ],
   "source": [
    "clusters = [['3081.txt', '4076.txt', '3447.txt', '1904.txt', '2202.txt', '4129.txt', '4111.txt', '1055.txt', '3871.txt', '2776.txt', '3050.txt', '3133.txt', '3046.txt', '1839.txt', '3036.txt', '2315.txt', '3427.txt', '1180.txt', '1619.txt', '1343.txt', '2065.txt', '2529.txt', '3820.txt', '3599.txt', '3167.txt', '1980.txt', '3617.txt', '2680.txt', '1809.txt', '2791.txt', '2828.txt', '2964.txt', '3931.txt', '1117.txt', '3073.txt'], \n",
    "            ['1318.txt', '2574.txt', '1727.txt', '3195.txt', '3585.txt', '2922.txt', '1143.txt', '2474.txt', '1627.txt', '2647.txt', '3405.txt', '2536.txt', '3777.txt', '1660.txt', '1059.txt', '1840.txt', '1711.txt'], \n",
    "            ['1330.txt', '3041.txt', '4163.txt'],\n",
    "            ['2407.txt', '3296.txt', '4049.txt', '1086.txt', '3497.txt', '3910.txt', '2239.txt', '1081.txt', '2301.txt', '2067.txt', '2304.txt', '3346.txt', '3781.txt', '2893.txt', '2501.txt', '1950.txt', '2685.txt', '2121.txt', '2519.txt', '3349.txt', '1827.txt', '2081.txt', '2522.txt', '1610.txt', '3359.txt', '1404.txt', '1834.txt', '2235.txt', '1113.txt', '3843.txt', '2593.txt', '1515.txt', '2424.txt', '4055.txt', '1312.txt', '1115.txt', '3884.txt', '1063.txt', '2595.txt', '2436.txt', '2153.txt'], \n",
    "            ['1447.txt', '3330.txt', '4121.txt', '2838.txt']]\n",
    "results(clusters, './num_clust_five_100/pred-fuzzycmeans', './num_clust_five_100/test-fuzzycmeans/', \"FUZZY C-MEANS\", \"5\")"
   ]
  },
  {
   "cell_type": "code",
   "execution_count": 8,
   "id": "d65e09f3",
   "metadata": {},
   "outputs": [
    {
     "name": "stdout",
     "output_type": "stream",
     "text": [
      "HIERARCHICAL - CLUSTERS = 5\n",
      "\n",
      "RSME PER CLUSTER:\n",
      "0.7606121414211225\n",
      "1.325521844047794\n",
      "2.2254624558993954\n",
      "0.8807379492112207\n",
      "0.8522436979697725\n",
      "\n",
      "MAPE PER CLUSTER:\n",
      "40.73787314900685\n",
      "39.82281900401661\n",
      "52.70847955387612\n",
      "34.663886518840854\n",
      "50.60924975962572\n",
      "\n",
      "Overall RMSE:  0.8442807143859291\n",
      "Overall MAPE:  38.500839211005804\n"
     ]
    }
   ],
   "source": [
    "clusters = [['3081.txt', '4076.txt', '1318.txt', '2202.txt', '4129.txt', '2574.txt', '4111.txt', '1727.txt', '1055.txt', '3871.txt', '2776.txt', '3050.txt', '3133.txt', '3046.txt', '3195.txt', '3585.txt', '3036.txt', '2315.txt', '2922.txt', '3427.txt', '1180.txt', '1143.txt', '1343.txt', '2474.txt', '1627.txt', '2065.txt', '2529.txt', '2647.txt', '3405.txt', '3820.txt', '3599.txt', '2536.txt', '3167.txt', '1980.txt', '3617.txt', '2680.txt', '3777.txt', '1809.txt', '1660.txt', '1059.txt', '2791.txt', '2828.txt', '2964.txt', '3931.txt', '1840.txt', '1711.txt', '1117.txt', '3073.txt'], \n",
    "            ['3041.txt', '4163.txt'],\n",
    "            ['1330.txt'], \n",
    "            ['2407.txt', '3296.txt', '3447.txt', '4049.txt', '1904.txt', '1086.txt', '3497.txt', '3910.txt', '2239.txt', '1081.txt', '1839.txt', '2301.txt', '2067.txt', '1619.txt', '2304.txt', '3346.txt', '3781.txt', '2893.txt', '2501.txt', '1950.txt', '2685.txt', '2121.txt', '2519.txt', '3349.txt', '1827.txt', '2081.txt', '2522.txt', '1610.txt', '3359.txt', '1404.txt', '1834.txt', '2235.txt', '1113.txt', '3843.txt', '2593.txt', '1515.txt', '2424.txt', '4055.txt', '1312.txt', '1115.txt', '3884.txt', '1063.txt', '2595.txt', '2436.txt', '2153.txt'], \n",
    "            ['1447.txt', '3330.txt', '4121.txt', '2838.txt']]\n",
    "results(clusters, './num_clust_five_100/pred-hierarchical', './num_clust_five_100/test-hierarchical/', \"HIERARCHICAL\", \"5\")"
   ]
  },
  {
   "cell_type": "code",
   "execution_count": 9,
   "id": "b5374512",
   "metadata": {},
   "outputs": [
    {
     "name": "stdout",
     "output_type": "stream",
     "text": [
      "MINI BATCH K-MEANS - CLUSTERS = 5\n",
      "\n",
      "RSME PER CLUSTER:\n",
      "0.8230220600199357\n",
      "0.9956180649494252\n",
      "0.6778582821063541\n",
      "0.6269520575280723\n",
      "0.8715486113524396\n",
      "\n",
      "MAPE PER CLUSTER:\n",
      "38.839234936361436\n",
      "33.619468979757\n",
      "34.399489636827255\n",
      "52.383159378384725\n",
      "38.070883642222796\n",
      "\n",
      "Overall RMSE:  0.7931240463972539\n",
      "Overall MAPE:  37.302723129563155\n"
     ]
    }
   ],
   "source": [
    "clusters = [['4076.txt', '3447.txt', '1904.txt', '4129.txt', '1055.txt', '1081.txt', '3046.txt', '1839.txt', '3036.txt', '2315.txt', '3427.txt', '1180.txt', '1619.txt', '2893.txt', '2065.txt', '2501.txt', '3349.txt', '2081.txt', '2522.txt', '3617.txt', '1809.txt', '2235.txt', '3931.txt', '1063.txt', '1117.txt'], \n",
    "            ['1447.txt', '3330.txt', '4121.txt', '2838.txt'], \n",
    "            ['2407.txt', '3296.txt', '4049.txt', '1086.txt', '3497.txt', '3910.txt', '2239.txt', '2301.txt', '2067.txt', '2304.txt', '3346.txt', '3781.txt', '1950.txt', '2685.txt', '2121.txt', '2519.txt', '1827.txt', '1610.txt', '3359.txt', '1404.txt', '1834.txt', '1113.txt', '3843.txt', '2593.txt', '1515.txt', '2424.txt', '4055.txt', '1312.txt', '1115.txt', '3884.txt', '2595.txt', '2436.txt', '2153.txt'], \n",
    "            ['1330.txt', '3041.txt', '4163.txt'], \n",
    "            ['3081.txt', '1318.txt', '2202.txt', '2574.txt', '4111.txt', '1727.txt', '3871.txt', '2776.txt', '3050.txt', '3133.txt', '3195.txt', '3585.txt', '2922.txt', '1143.txt', '1343.txt', '2474.txt', '1627.txt', '2529.txt', '2647.txt', '3405.txt', '3820.txt', '3599.txt', '2536.txt', '3167.txt', '1980.txt', '2680.txt', '3777.txt', '1660.txt', '1059.txt', '2791.txt', '2828.txt', '2964.txt', '1840.txt', '1711.txt', '3073.txt']]\n",
    "results(clusters, './num_clust_five_100/pred-minibatchkmeans', './num_clust_five_100/test-minibatchkmeans/', \"MINI BATCH K-MEANS\", \"5\")"
   ]
  },
  {
   "cell_type": "code",
   "execution_count": 10,
   "id": "e2ee0b52",
   "metadata": {},
   "outputs": [
    {
     "name": "stdout",
     "output_type": "stream",
     "text": [
      "K-MEANS - CLUSTERS = 6\n",
      "\n",
      "RSME PER CLUSTER:\n",
      "0.6647459075821177\n",
      "0.9037120854377303\n",
      "1.0194262135038685\n",
      "1.9183612527779186\n",
      "0.8190305406473144\n",
      "0.5897505755130789\n",
      "\n",
      "MAPE PER CLUSTER:\n",
      "34.27476270815248\n",
      "53.25397996989228\n",
      "34.18493629617545\n",
      "63.39341164413307\n",
      "38.5532697769032\n",
      "43.817604850122194\n",
      "\n",
      "Overall RMSE:  0.8225961197857856\n",
      "Overall MAPE:  36.99614236458117\n"
     ]
    }
   ],
   "source": [
    "clusters = [['3081.txt', '4076.txt', '3447.txt', '1904.txt', '2202.txt', '4129.txt', '4111.txt', '1055.txt', '3871.txt', '2776.txt', '3050.txt', '3133.txt', '3046.txt', '1839.txt', '3036.txt', '2315.txt', '3427.txt', '1180.txt', '1619.txt', '1343.txt', '2065.txt', '2529.txt', '3820.txt', '3599.txt', '3167.txt', '1980.txt', '3617.txt', '2680.txt', '1809.txt', '2791.txt', '2828.txt', '2964.txt', '3931.txt', '1117.txt', '3073.txt'], \n",
    "            ['1447.txt', '3330.txt', '4121.txt', '2838.txt'], \n",
    "            ['2407.txt', '3296.txt', '4049.txt', '1086.txt', '3497.txt', '3910.txt', '2239.txt', '1081.txt', '2301.txt', '2067.txt', '2304.txt', '3346.txt', '3781.txt', '2893.txt', '2501.txt', '1950.txt', '2685.txt', '2121.txt', '2519.txt', '3349.txt', '1827.txt', '2081.txt', '2522.txt', '1610.txt', '3359.txt', '1404.txt', '1834.txt', '2235.txt', '1113.txt', '3843.txt', '2593.txt', '1515.txt', '2424.txt', '4055.txt', '1312.txt', '1115.txt', '3884.txt', '1063.txt', '2595.txt', '2436.txt', '2153.txt'], \n",
    "            ['1330.txt'], \n",
    "            ['3041.txt', '4163.txt'], \n",
    "            ['1318.txt', '2574.txt', '1727.txt', '3195.txt', '3585.txt', '2922.txt', '1143.txt', '2474.txt', '1627.txt', '2647.txt', '3405.txt', '2536.txt', '3777.txt', '1660.txt', '1059.txt', '1840.txt', '1711.txt']]\n",
    "results(clusters, './num_clust_six_100/pred-kmeans', './num_clust_six_100/test-kmeans/', \"K-MEANS\", \"6\")"
   ]
  },
  {
   "cell_type": "code",
   "execution_count": 11,
   "id": "848eadac",
   "metadata": {},
   "outputs": [
    {
     "name": "stdout",
     "output_type": "stream",
     "text": [
      "FUZZY C-MEANS - CLUSTERS = 6\n",
      "\n",
      "RSME PER CLUSTER:\n",
      "0.5914562618836379\n",
      "0.7307018055788326\n",
      "0.9993484343109899\n",
      "1.4252697820628508\n",
      "0.6340139546427038\n",
      "0.9387371685157374\n",
      "\n",
      "MAPE PER CLUSTER:\n",
      "39.35005596830359\n",
      "37.78548371144025\n",
      "50.17740429270595\n",
      "40.160487514863526\n",
      "39.453708291787954\n",
      "55.03104311652716\n",
      "\n",
      "Overall RMSE:  0.8553700810782168\n",
      "Overall MAPE:  40.00358775641293\n"
     ]
    }
   ],
   "source": [
    "clusters = [['1318.txt', '2574.txt', '1727.txt', '3195.txt', '2922.txt', '1143.txt', '2474.txt', '1627.txt', '2647.txt', '3405.txt', '2536.txt', '3777.txt', '1660.txt', '1059.txt', '1840.txt', '1711.txt'], \n",
    "            ['2407.txt', '3296.txt', '4049.txt', '1086.txt', '3497.txt', '3910.txt', '2239.txt', '2301.txt', '2067.txt', '2304.txt', '3346.txt', '3781.txt', '1950.txt', '2685.txt', '2121.txt', '2519.txt', '1827.txt', '1610.txt', '1404.txt', '1834.txt', '1113.txt', '3843.txt', '2593.txt', '1515.txt', '2424.txt', '4055.txt', '1312.txt', '1115.txt', '3884.txt', '2595.txt', '2436.txt', '2153.txt'], \n",
    "            ['1330.txt', '3041.txt', '4163.txt'], \n",
    "            ['3081.txt', '2202.txt', '4111.txt', '1055.txt', '3871.txt', '2776.txt', '3050.txt', '3133.txt', '3585.txt', '1343.txt', '2065.txt', '2529.txt', '3820.txt', '3599.txt', '3167.txt', '1980.txt', '2680.txt', '2791.txt', '2828.txt', '2964.txt', '1117.txt', '3073.txt'], \n",
    "            ['4076.txt', '3447.txt', '1904.txt', '4129.txt', '1081.txt', '3046.txt', '1839.txt', '3036.txt', '2315.txt', '3427.txt', '1180.txt', '1619.txt', '2893.txt', '2501.txt', '3349.txt', '2081.txt', '2522.txt', '3359.txt', '3617.txt', '1809.txt', '2235.txt', '3931.txt', '1063.txt'], \n",
    "            ['1447.txt', '3330.txt', '4121.txt', '2838.txt']]\n",
    "results(clusters, './num_clust_six_100/pred-fuzzycmeans', './num_clust_six_100/test-fuzzycmeans/', \"FUZZY C-MEANS\", \"6\")"
   ]
  },
  {
   "cell_type": "code",
   "execution_count": 12,
   "id": "dd8fe420",
   "metadata": {},
   "outputs": [
    {
     "name": "stdout",
     "output_type": "stream",
     "text": [
      "FUZZY C-MEANS - CLUSTERS = 6\n",
      "\n",
      "RSME PER CLUSTER:\n",
      "1.2264289131200725\n",
      "1.0858276627601509\n",
      "0.6319608399415517\n",
      "0.8792680768662624\n",
      "0.7753802285178085\n",
      "1.7687343007729879\n",
      "\n",
      "MAPE PER CLUSTER:\n",
      "46.20941405762596\n",
      "63.86687077253724\n",
      "42.23634160079164\n",
      "35.297543043688066\n",
      "35.61694013104617\n",
      "29.57345709258103\n",
      "\n",
      "Overall RMSE:  0.8291208760009396\n",
      "Overall MAPE:  37.87992156539834\n"
     ]
    }
   ],
   "source": [
    "clusters = [['3041.txt', '4163.txt'], \n",
    "            ['1447.txt', '3330.txt', '4121.txt', '2838.txt'], \n",
    "            ['1318.txt', '2574.txt', '1727.txt', '3195.txt', '3585.txt', '2922.txt', '1143.txt', '2474.txt', '1627.txt', '2647.txt', '3405.txt', '2536.txt', '3777.txt', '1660.txt', '1059.txt', '1840.txt', '1711.txt'], \n",
    "            ['2407.txt', '3296.txt', '3447.txt', '4049.txt', '1904.txt', '1086.txt', '3497.txt', '3910.txt', '2239.txt', '1081.txt', '1839.txt', '2301.txt', '2067.txt', '1619.txt', '2304.txt', '3346.txt', '3781.txt', '2893.txt', '2501.txt', '1950.txt', '2685.txt', '2121.txt', '2519.txt', '3349.txt', '1827.txt', '2081.txt', '2522.txt', '1610.txt', '3359.txt', '1404.txt', '1834.txt', '2235.txt', '1113.txt', '3843.txt', '2593.txt', '1515.txt', '2424.txt', '4055.txt', '1312.txt', '1115.txt', '3884.txt', '1063.txt', '2595.txt', '2436.txt', '2153.txt'],\n",
    "            ['3081.txt', '4076.txt', '2202.txt', '4129.txt', '4111.txt', '1055.txt', '3871.txt', '2776.txt', '3050.txt', '3133.txt', '3046.txt', '3036.txt', '2315.txt', '3427.txt', '1180.txt', '1343.txt', '2065.txt', '2529.txt', '3820.txt', '3599.txt', '3167.txt', '1980.txt', '3617.txt', '2680.txt', '1809.txt', '2791.txt', '2828.txt', '2964.txt', '3931.txt', '1117.txt', '3073.txt'], \n",
    "            ['1330.txt']]\n",
    "results(clusters, './num_clust_six_100/pred-hierarchical', './num_clust_six_100/test-hierarchical/', \"HIERARCHICAL\", \"6\")"
   ]
  },
  {
   "cell_type": "code",
   "execution_count": 13,
   "id": "19763fb4",
   "metadata": {},
   "outputs": [
    {
     "name": "stdout",
     "output_type": "stream",
     "text": [
      "MINI BATCH K-MEANS - CLUSTERS = 6\n",
      "\n",
      "RSME PER CLUSTER:\n",
      "0.8773891537744214\n",
      "0.5819420637926789\n",
      "0.7995016925263121\n",
      "0.7302562858152326\n",
      "0.9264072279205697\n",
      "0.9084269529860491\n",
      "\n",
      "MAPE PER CLUSTER:\n",
      "49.0819990278239\n",
      "27.965012091106058\n",
      "44.19817817803204\n",
      "39.1143564192185\n",
      "43.45254593062578\n",
      "38.74421874022599\n",
      "\n",
      "Overall RMSE:  0.8355429197145746\n",
      "Overall MAPE:  40.13480403614195\n"
     ]
    }
   ],
   "source": [
    "clusters = [['1330.txt', '3041.txt', '1447.txt', '3330.txt', '4163.txt', '4121.txt', '2838.txt'], \n",
    "            ['1081.txt', '2893.txt', '2501.txt', '1950.txt', '3349.txt', '2522.txt', '3359.txt', '1834.txt', '2235.txt', '3843.txt', '1312.txt', '2595.txt'], \n",
    "            ['2407.txt', '4049.txt', '1086.txt', '3497.txt', '3910.txt', '2301.txt', '2067.txt', '2304.txt', '1827.txt', '1610.txt', '1404.txt', '1113.txt', '2593.txt', '1515.txt', '2424.txt', '4055.txt', '1115.txt', '3884.txt', '2153.txt'], \n",
    "            ['3296.txt', '2239.txt', '3346.txt', '3781.txt', '2685.txt', '2121.txt', '2519.txt', '2436.txt'], \n",
    "            ['4076.txt', '3447.txt', '1904.txt', '4129.txt', '1055.txt', '3046.txt', '1839.txt', '3036.txt', '2315.txt', '3427.txt', '1180.txt', '1619.txt', '2065.txt', '2081.txt', '3617.txt', '1809.txt', '3931.txt', '1063.txt', '1117.txt'], \n",
    "            ['3081.txt', '1318.txt', '2202.txt', '2574.txt', '4111.txt', '1727.txt', '3871.txt', '2776.txt', '3050.txt', '3133.txt', '3195.txt', '3585.txt', '2922.txt', '1143.txt', '1343.txt', '2474.txt', '1627.txt', '2529.txt', '2647.txt', '3405.txt', '3820.txt', '3599.txt', '2536.txt', '3167.txt', '1980.txt', '2680.txt', '3777.txt', '1660.txt', '1059.txt', '2791.txt', '2828.txt', '2964.txt', '1840.txt', '1711.txt', '3073.txt']]\n",
    "results(clusters, './num_clust_six_100/pred-minibatchkmeans', './num_clust_six_100/test-minibatchkmeans/', \"MINI BATCH K-MEANS\", \"6\")"
   ]
  },
  {
   "cell_type": "code",
   "execution_count": 11,
   "id": "d39a8d8f",
   "metadata": {},
   "outputs": [
    {
     "name": "stdout",
     "output_type": "stream",
     "text": [
      "K-MEANS - CLUSTERS = 7\n",
      "\n",
      "RSME PER CLUSTER:\n",
      "0.8973692446384245\n",
      "2.362146227378946\n",
      "0.5902739571760088\n",
      "0.8786241564967949\n",
      "0.8788176179526959\n",
      "0.665726575801559\n",
      "1.657574441736639\n",
      "\n",
      "MAPE PER CLUSTER:\n",
      "35.46242181380256\n",
      "66.51994273759925\n",
      "34.77614746124846\n",
      "60.643974445987055\n",
      "38.77237540654848\n",
      "63.960709987065556\n",
      "68.86156701659326\n",
      "\n",
      "Overall RMSE:  0.8578535680141627\n",
      "Overall MAPE:  38.44105057961533\n"
     ]
    }
   ],
   "source": [
    "clusters = [['2407.txt', '3296.txt', '4049.txt', '1086.txt', '3497.txt', '3910.txt', '2239.txt', '1081.txt', '2301.txt', '2067.txt', '2304.txt', '3346.txt', '3781.txt', '2893.txt', '2501.txt', '1950.txt', '2685.txt', '2121.txt', '2519.txt', '3349.txt', '1827.txt', '2081.txt', '2522.txt', '1610.txt', '3359.txt', '1404.txt', '1834.txt', '2235.txt', '1113.txt', '3843.txt', '2593.txt', '1515.txt', '2424.txt', '4055.txt', '1312.txt', '1115.txt', '3884.txt', '1063.txt', '2595.txt', '2436.txt', '2153.txt'],\n",
    "            ['4163.txt'], \n",
    "            ['1318.txt', '2574.txt', '1727.txt', '3195.txt', '3585.txt', '2922.txt', '1143.txt', '2474.txt', '1627.txt', '2647.txt', '3405.txt', '2536.txt', '3777.txt', '1660.txt', '1059.txt', '1840.txt', '1711.txt'], \n",
    "            ['1447.txt', '3330.txt', '4121.txt', '2838.txt'], \n",
    "            ['3081.txt', '4076.txt', '3447.txt', '1904.txt', '2202.txt', '4129.txt', '4111.txt', '1055.txt', '3871.txt', '2776.txt', '3050.txt', '3133.txt', '3046.txt', '1839.txt', '3036.txt', '2315.txt', '3427.txt', '1180.txt', '1619.txt', '1343.txt', '2065.txt', '2529.txt', '3820.txt', '3599.txt', '3167.txt', '1980.txt', '3617.txt', '2680.txt', '1809.txt', '2791.txt', '2828.txt', '2964.txt', '3931.txt', '1117.txt', '3073.txt'], \n",
    "            ['1330.txt'], \n",
    "            ['3041.txt']]\n",
    "results(clusters, './num_clust_seven_100/pred-kmeans', './num_clust_seven_100/test-kmeans/', \"K-MEANS\", \"7\")"
   ]
  },
  {
   "cell_type": "code",
   "execution_count": 12,
   "id": "63b94908",
   "metadata": {},
   "outputs": [
    {
     "name": "stdout",
     "output_type": "stream",
     "text": [
      "FUZZY C-MEANS - CLUSTERS = 7\n",
      "\n",
      "RSME PER CLUSTER:\n",
      "1.095194875799789\n",
      "1.2824897785178608\n",
      "0.5514545911811104\n",
      "1.8169428733590542\n",
      "0.739477885716957\n",
      "0.8607646440642227\n",
      "0.900301637860122\n",
      "\n",
      "MAPE PER CLUSTER:\n",
      "42.831293710299626\n",
      "49.40499558198567\n",
      "42.110002477480464\n",
      "43.28552305739918\n",
      "35.724353275813606\n",
      "34.70339364613565\n",
      "50.646418681159865\n",
      "\n",
      "Overall RMSE:  0.8428668904360059\n",
      "Overall MAPE:  39.17621557794954\n"
     ]
    }
   ],
   "source": [
    "clusters = [['3081.txt', '2202.txt', '4111.txt', '1055.txt', '3871.txt', '2776.txt', '3050.txt', '3133.txt', '1343.txt', '2065.txt', '2529.txt', '3820.txt', '3599.txt', '3167.txt', '1980.txt', '3617.txt', '2680.txt', '1809.txt', '2791.txt', '2828.txt', '2964.txt', '1117.txt', '3073.txt'], \n",
    "            ['1330.txt', '3041.txt'], \n",
    "            ['1318.txt', '2574.txt', '1727.txt', '3195.txt', '3585.txt', '2922.txt', '1143.txt', '2474.txt', '1627.txt', '2647.txt', '3405.txt', '2536.txt', '3777.txt', '1660.txt', '1059.txt', '1840.txt', '1711.txt'], \n",
    "            ['4163.txt'], \n",
    "            ['2407.txt', '3296.txt', '4049.txt', '1086.txt', '3497.txt', '3910.txt', '2239.txt', '2301.txt', '2067.txt', '2304.txt', '3346.txt', '3781.txt', '1950.txt', '2685.txt', '2121.txt', '2519.txt', '1827.txt', '1610.txt', '1404.txt', '1834.txt', '1113.txt', '3843.txt', '2593.txt', '1515.txt', '2424.txt', '4055.txt', '1312.txt', '1115.txt', '3884.txt', '2595.txt', '2436.txt', '2153.txt'], \n",
    "            ['4076.txt', '3447.txt', '1904.txt', '4129.txt', '1081.txt', '3046.txt', '1839.txt', '3036.txt', '2315.txt', '3427.txt', '1180.txt', '1619.txt', '2893.txt', '2501.txt', '3349.txt', '2081.txt', '2522.txt', '3359.txt', '2235.txt', '3931.txt', '1063.txt'], \n",
    "            ['1447.txt', '3330.txt', '4121.txt', '2838.txt']]\n",
    "results(clusters, './num_clust_seven_100/pred-fuzzycmeans', './num_clust_seven_100/test-fuzzycmeans/', \"FUZZY C-MEANS\", \"7\")"
   ]
  },
  {
   "cell_type": "code",
   "execution_count": 13,
   "id": "d97eea00",
   "metadata": {},
   "outputs": [
    {
     "name": "stdout",
     "output_type": "stream",
     "text": [
      "HIERARCHICAL - CLUSTERS = 7\n",
      "\n",
      "RSME PER CLUSTER:\n",
      "0.7596712196049753\n",
      "0.7986602005276262\n",
      "0.5829706702140518\n",
      "1.8365613805306793\n",
      "1.0407895931782507\n",
      "0.8798342979369672\n",
      "0.3339807137159319\n",
      "\n",
      "MAPE PER CLUSTER:\n",
      "53.92707406841781\n",
      "33.55927321387249\n",
      "40.776514508921\n",
      "46.89627685171977\n",
      "39.0167957247372\n",
      "52.471349877930564\n",
      "53.05625017099239\n",
      "\n",
      "Overall RMSE:  0.8420374907651131\n",
      "Overall MAPE:  37.81020881917087\n"
     ]
    }
   ],
   "source": [
    "clusters = [['1447.txt', '3330.txt', '4121.txt', '2838.txt'], \n",
    "            ['2407.txt', '3296.txt', '3447.txt', '4049.txt', '1904.txt', '1086.txt', '3497.txt', '3910.txt', '2239.txt', '1081.txt', '1839.txt', '2301.txt', '2067.txt', '1619.txt', '2304.txt', '3346.txt', '3781.txt', '2893.txt', '2501.txt', '1950.txt', '2685.txt', '2121.txt', '2519.txt', '3349.txt', '1827.txt', '2081.txt', '2522.txt', '1610.txt', '3359.txt', '1404.txt', '1834.txt', '2235.txt', '1113.txt', '3843.txt', '2593.txt', '1515.txt', '2424.txt', '4055.txt', '1312.txt', '1115.txt', '3884.txt', '1063.txt', '2595.txt', '2436.txt', '2153.txt'],\n",
    "            ['1318.txt', '2574.txt', '1727.txt', '3195.txt', '3585.txt', '2922.txt', '1143.txt', '2474.txt', '1627.txt', '2647.txt', '3405.txt', '2536.txt', '3777.txt', '1660.txt', '1059.txt', '1840.txt', '1711.txt'], \n",
    "            ['4163.txt'], \n",
    "            ['3081.txt', '4076.txt', '2202.txt', '4129.txt', '4111.txt', '1055.txt', '3871.txt', '2776.txt', '3050.txt', '3133.txt', '3046.txt', '3036.txt', '2315.txt', '3427.txt', '1180.txt', '1343.txt', '2065.txt', '2529.txt', '3820.txt', '3599.txt', '3167.txt', '1980.txt', '3617.txt', '2680.txt', '1809.txt', '2791.txt', '2828.txt', '2964.txt', '3931.txt', '1117.txt', '3073.txt'],\n",
    "            ['1330.txt'], \n",
    "            ['3041.txt']]\n",
    "results(clusters, './num_clust_seven_100/pred-hierarchical', './num_clust_seven_100/test-hierarchical/', \"HIERARCHICAL\", \"7\")"
   ]
  },
  {
   "cell_type": "code",
   "execution_count": 14,
   "id": "06f41297",
   "metadata": {},
   "outputs": [
    {
     "name": "stdout",
     "output_type": "stream",
     "text": [
      "MINI BATCH K-MEANS - CLUSTERS = 7\n",
      "\n",
      "RSME PER CLUSTER:\n",
      "1.13202683924001\n",
      "0.844973899037322\n",
      "0.6835230780582556\n",
      "0.6061365989344917\n",
      "0.9918841020197356\n",
      "0.7284724560047864\n",
      "1.1404011950364696\n",
      "\n",
      "MAPE PER CLUSTER:\n",
      "40.52081707677568\n",
      "52.61897369085257\n",
      "36.72741732961739\n",
      "37.590850221618375\n",
      "37.665244439077384\n",
      "33.77995928325147\n",
      "41.22517957265662\n",
      "\n",
      "Overall RMSE:  0.817354284983673\n",
      "Overall MAPE:  37.99741846794741\n"
     ]
    }
   ],
   "source": [
    "clusters = [['1330.txt', '3041.txt', '4163.txt'], \n",
    "            ['1447.txt', '3330.txt', '4121.txt', '2838.txt'], \n",
    "            ['2407.txt', '4049.txt', '1086.txt', '3497.txt', '3910.txt', '2301.txt', '2067.txt', '2304.txt', '1827.txt', '1610.txt', '1404.txt', '1113.txt', '2593.txt', '1515.txt', '2424.txt', '4055.txt', '1115.txt', '3884.txt', '2153.txt'], \n",
    "            ['1318.txt', '2574.txt', '1727.txt', '2776.txt', '3050.txt', '3133.txt', '3195.txt', '3585.txt', '2922.txt', '1143.txt', '1343.txt', '2474.txt', '1627.txt', '2647.txt', '3405.txt', '2536.txt', '2680.txt', '3777.txt', '1660.txt', '1059.txt', '2964.txt', '1840.txt', '1711.txt', '3073.txt'], \n",
    "            ['3081.txt', '2202.txt', '4129.txt', '4111.txt', '1055.txt', '3871.txt', '3046.txt', '3036.txt', '2315.txt', '3427.txt', '1180.txt', '2065.txt', '2529.txt', '3820.txt', '3599.txt', '3167.txt', '1980.txt', '3617.txt', '1809.txt', '2791.txt', '2828.txt', '3931.txt', '1117.txt'], \n",
    "            ['3296.txt', '2239.txt', '3346.txt', '3781.txt', '1950.txt', '2685.txt', '2121.txt', '2519.txt', '3349.txt', '3359.txt', '1834.txt', '3843.txt', '1312.txt', '2595.txt', '2436.txt'], \n",
    "            ['4076.txt', '3447.txt', '1904.txt', '1081.txt', '1839.txt', '1619.txt', '2893.txt', '2501.txt', '2081.txt', '2522.txt', '2235.txt', '1063.txt']]\n",
    "results(clusters, './num_clust_seven_100/pred-minibatchkmeans', './num_clust_seven_100/test-minibatchkmeans/', \"MINI BATCH K-MEANS\", \"7\")\n"
   ]
  },
  {
   "cell_type": "code",
   "execution_count": 7,
   "id": "8d4f5e7f",
   "metadata": {},
   "outputs": [
    {
     "name": "stdout",
     "output_type": "stream",
     "text": [
      "K-MEANS - CLUSTERS = 8\n",
      "\n",
      "RSME PER CLUSTER:\n",
      "1.2222820064246782\n",
      "0.7358322802914703\n",
      "0.6969114897683496\n",
      "1.3378901793653184\n",
      "1.0741367085167675\n",
      "0.7572182487067607\n",
      "0.5647747024501765\n",
      "0.8747915312146786\n",
      "\n",
      "MAPE PER CLUSTER:\n",
      "44.45687731905629\n",
      "36.684658604149305\n",
      "57.20997451735063\n",
      "49.02397401970162\n",
      "31.368925275097777\n",
      "35.0607353854363\n",
      "57.72287768518684\n",
      "47.91502993050753\n",
      "\n",
      "Overall RMSE:  0.8352799200137416\n",
      "Overall MAPE:  38.38577287997477\n"
     ]
    }
   ],
   "source": [
    "clusters = [['1318.txt', '2574.txt', '1727.txt', '3195.txt', '3585.txt', '2922.txt', '1143.txt', '2474.txt', '1627.txt', '2647.txt', '3405.txt', '2536.txt', '3777.txt', '1660.txt', '1059.txt', '1840.txt', '1711.txt'], \n",
    "            ['2407.txt', '3296.txt', '3447.txt', '4049.txt', '1086.txt', '3497.txt', '3910.txt', '2239.txt', '1081.txt', '2301.txt', '2067.txt', '1619.txt', '2304.txt', '3346.txt', '3781.txt', '2893.txt', '2501.txt', '1950.txt', '2685.txt', '2121.txt', '2519.txt', '3349.txt', '1827.txt', '2081.txt', '2522.txt', '1610.txt', '3359.txt', '1404.txt', '1834.txt', '2235.txt', '1113.txt', '3843.txt', '2593.txt', '1515.txt', '2424.txt', '4055.txt', '1312.txt', '1115.txt', '3884.txt', '1063.txt', '2595.txt', '2436.txt', '2153.txt'], \n",
    "            ['1447.txt', '3330.txt'], \n",
    "            ['1330.txt'], \n",
    "            ['3041.txt'], \n",
    "            ['3081.txt', '4076.txt', '1904.txt', '2202.txt', '4129.txt', '4111.txt', '1055.txt', '3871.txt', '2776.txt', '3050.txt', '3133.txt', '3046.txt', '1839.txt', '3036.txt', '2315.txt', '3427.txt', '1180.txt', '1343.txt', '2065.txt', '2529.txt', '3820.txt', '3599.txt', '3167.txt', '1980.txt', '3617.txt', '2680.txt', '1809.txt', '2791.txt', '2828.txt', '2964.txt', '3931.txt', '1117.txt', '3073.txt'], \n",
    "            ['4163.txt'], \n",
    "            ['4121.txt', '2838.txt']]\n",
    "results(clusters, './num_clust_eight_100/pred-kmeans', './num_clust_eight_100/test-kmeans/', \"K-MEANS\", \"8\")\n"
   ]
  },
  {
   "cell_type": "code",
   "execution_count": 8,
   "id": "efbc8cad",
   "metadata": {},
   "outputs": [
    {
     "name": "stdout",
     "output_type": "stream",
     "text": [
      "FUZZY C-MEANS - CLUSTERS = 8\n",
      "\n",
      "RSME PER CLUSTER:\n",
      "1.2832019060110937\n",
      "0.8637681149017485\n",
      "0.7276936993171924\n",
      "1.0759534118710432\n",
      "1.0087026129176653\n",
      "0.7920065597071507\n",
      "0.6012901923637988\n",
      "2.60417316385619\n",
      "\n",
      "MAPE PER CLUSTER:\n",
      "61.0601565249475\n",
      "36.570679644277206\n",
      "37.31732978437336\n",
      "54.54083243614664\n",
      "39.109389520869286\n",
      "40.493178435174805\n",
      "37.51591675244734\n",
      "53.729235496780994\n",
      "\n",
      "Overall RMSE:  0.8820238380472953\n",
      "Overall MAPE:  39.88051064482349\n"
     ]
    }
   ],
   "source": [
    "clusters = [['1330.txt', '3041.txt'], \n",
    "            ['4076.txt', '3296.txt', '3447.txt', '1904.txt', '1081.txt', '1839.txt', '1619.txt', '2893.txt', '2501.txt', '1950.txt', '3349.txt', '2081.txt', '2522.txt', '3359.txt', '2235.txt', '3843.txt', '1312.txt', '1063.txt', '2595.txt'], \n",
    "            ['1727.txt', '3585.txt', '1143.txt', '1343.txt', '3405.txt', '3777.txt', '1059.txt', '1840.txt', '1711.txt', '3073.txt'], \n",
    "            ['1447.txt', '3330.txt', '4121.txt', '2838.txt'], \n",
    "            ['3081.txt', '2202.txt', '4129.txt', '4111.txt', '1055.txt', '3871.txt', '2776.txt', '3050.txt', '3133.txt', '3046.txt', '3036.txt', '2315.txt', '3427.txt', '1180.txt', '2065.txt', '2529.txt', '3820.txt', '3599.txt', '3167.txt', '1980.txt', '3617.txt', '2680.txt', '1809.txt', '2791.txt', '2828.txt', '2964.txt', '3931.txt', '1117.txt'], \n",
    "            ['2407.txt', '4049.txt', '1086.txt', '3497.txt', '3910.txt', '2239.txt', '2301.txt', '2067.txt', '2304.txt', '3346.txt', '3781.txt', '2685.txt', '2121.txt', '2519.txt', '1827.txt', '1610.txt', '1404.txt', '1834.txt', '1113.txt', '2593.txt', '1515.txt', '2424.txt', '4055.txt', '1115.txt', '3884.txt', '2436.txt', '2153.txt'], \n",
    "            ['1318.txt', '2574.txt', '3195.txt', '2922.txt', '2474.txt', '1627.txt', '2647.txt', '2536.txt', '1660.txt'], \n",
    "            ['4163.txt']]\n",
    "results(clusters, './num_clust_eight_100/pred-fuzzycmeans', './num_clust_eight_100/test-fuzzycmeans/', \"FUZZY C-MEANS\", \"8\")\n",
    "\n"
   ]
  },
  {
   "cell_type": "code",
   "execution_count": 9,
   "id": "c38ab343",
   "metadata": {},
   "outputs": [
    {
     "name": "stdout",
     "output_type": "stream",
     "text": [
      "HIERARCHICAL - CLUSTERS = 8\n",
      "\n",
      "RSME PER CLUSTER:\n",
      "0.7400738577867303\n",
      "0.7877967416754273\n",
      "0.7082464864553802\n",
      "1.3482140305405368\n",
      "1.0827457846517408\n",
      "1.4987685754068596\n",
      "1.0849670866793957\n",
      "2.4897373291278035\n",
      "\n",
      "MAPE PER CLUSTER:\n",
      "33.3100589795833\n",
      "52.12418593079627\n",
      "41.32115603387344\n",
      "61.692310821143295\n",
      "41.86137000975223\n",
      "83.69057307414799\n",
      "64.7122016330865\n",
      "77.49485203660159\n",
      "\n",
      "Overall RMSE:  0.8769371044112918\n",
      "Overall MAPE:  39.43077272316784\n"
     ]
    }
   ],
   "source": [
    "clusters = [['2407.txt', '3296.txt', '3447.txt', '4049.txt', '1904.txt', '1086.txt', '3497.txt', '3910.txt', '2239.txt', '1081.txt', '1839.txt', '2301.txt', '2067.txt', '1619.txt', '2304.txt', '3346.txt', '3781.txt', '2893.txt', '2501.txt', '1950.txt', '2685.txt', '2121.txt', '2519.txt', '3349.txt', '1827.txt', '2081.txt', '2522.txt', '1610.txt', '3359.txt', '1404.txt', '1834.txt', '2235.txt', '1113.txt', '3843.txt', '2593.txt', '1515.txt', '2424.txt', '4055.txt', '1312.txt', '1115.txt', '3884.txt', '1063.txt', '2595.txt', '2436.txt', '2153.txt'], \n",
    "            ['1447.txt', '3330.txt', '4121.txt'], \n",
    "            ['1318.txt', '2574.txt', '1727.txt', '3195.txt', '3585.txt', '2922.txt', '1143.txt', '2474.txt', '1627.txt', '2647.txt', '3405.txt', '2536.txt', '3777.txt', '1660.txt', '1059.txt', '1840.txt', '1711.txt'], \n",
    "            ['2838.txt'], \n",
    "            ['3081.txt', '4076.txt', '2202.txt', '4129.txt', '4111.txt', '1055.txt', '3871.txt', '2776.txt', '3050.txt', '3133.txt', '3046.txt', '3036.txt', '2315.txt', '3427.txt', '1180.txt', '1343.txt', '2065.txt', '2529.txt', '3820.txt', '3599.txt', '3167.txt', '1980.txt', '3617.txt', '2680.txt', '1809.txt', '2791.txt', '2828.txt', '2964.txt', '3931.txt', '1117.txt', '3073.txt'], \n",
    "            ['1330.txt'],\n",
    "            ['3041.txt'], \n",
    "            ['4163.txt']]\n",
    "results(clusters, './num_clust_eight_100/pred-hierarchical', './num_clust_eight_100/test-hierarchical/', \"HIERARCHICAL\", \"8\")\n",
    "\n"
   ]
  },
  {
   "cell_type": "code",
   "execution_count": 10,
   "id": "9a9cb79c",
   "metadata": {},
   "outputs": [
    {
     "name": "stdout",
     "output_type": "stream",
     "text": [
      "MINI BATCH K-MEANS - CLUSTERS = 8\n",
      "\n",
      "RSME PER CLUSTER:\n",
      "1.5880860360720956\n",
      "0.6221600641787776\n",
      "0.7311871321376853\n",
      "0.6315969935372351\n",
      "0.5392497248741702\n",
      "0.5499633651607767\n",
      "0.852089840005407\n",
      "0.8435619436981557\n",
      "\n",
      "MAPE PER CLUSTER:\n",
      "39.57898061713143\n",
      "43.64801562738054\n",
      "34.98949596016295\n",
      "34.16500709109721\n",
      "35.09446549695871\n",
      "36.46155726834367\n",
      "33.39815190542742\n",
      "45.42016459505327\n",
      "\n",
      "Overall RMSE:  0.8274799079093299\n",
      "Overall MAPE:  38.42609329570587\n"
     ]
    }
   ],
   "source": [
    "clusters = [['3081.txt', '4111.txt', '3871.txt', '2776.txt', '3050.txt', '3133.txt', '1343.txt', '2529.txt', '3820.txt', '3599.txt', '3167.txt', '1980.txt', '2680.txt', '2791.txt', '2828.txt', '2964.txt', '3073.txt'], \n",
    " ['1330.txt', '3041.txt', '1447.txt', '3330.txt', '4163.txt', '4121.txt'], \n",
    " ['3296.txt', '2239.txt', '3346.txt', '3781.txt', '1950.txt', '2685.txt', '2121.txt', '2519.txt', '3349.txt', '3359.txt', '1834.txt', '3843.txt', '1312.txt', '2595.txt', '2436.txt'], \n",
    " ['3447.txt', '1904.txt', '1081.txt', '1839.txt', '1619.txt', '2893.txt', '2501.txt', '2081.txt', '2522.txt', '2235.txt', '1063.txt'], \n",
    " ['2202.txt', '1055.txt', '3046.txt', '3036.txt', '2315.txt', '3427.txt', '1180.txt', '2065.txt', '3617.txt', '1809.txt', '3931.txt', '1117.txt'], \n",
    " ['1318.txt', '2574.txt', '1727.txt', '3195.txt', '3585.txt', '2922.txt', '1143.txt', '2474.txt', '1627.txt', '2647.txt', '3405.txt', '2536.txt', '3777.txt', '1660.txt', '1059.txt', '2838.txt', '1840.txt', '1711.txt'], \n",
    " ['4076.txt', '4129.txt'], \n",
    " ['2407.txt', '4049.txt', '1086.txt', '3497.txt', '3910.txt', '2301.txt', '2067.txt', '2304.txt', '1827.txt', '1610.txt', '1404.txt', '1113.txt', '2593.txt', '1515.txt', '2424.txt', '4055.txt', '1115.txt', '3884.txt', '2153.txt']]\n",
    "results(clusters, './num_clust_eight_100/pred-minibatchkmeans', './num_clust_eight_100/test-minibatchkmeans/', \"MINI BATCH K-MEANS\", \"8\")\n"
   ]
  },
  {
   "cell_type": "code",
   "execution_count": 11,
   "id": "52df2232",
   "metadata": {},
   "outputs": [
    {
     "name": "stdout",
     "output_type": "stream",
     "text": [
      "One File - 1086.txt - CLUSTERS = 1\n",
      "\n",
      "RSME PER CLUSTER:\n",
      "0\n",
      "\n",
      "MAPE PER CLUSTER:\n",
      "0\n",
      "\n",
      "Overall RMSE:  0.06459156822195858\n",
      "Overall MAPE:  30.473494251908996\n"
     ]
    }
   ],
   "source": [
    "clusters = [['1086.txt']]\n",
    "results(clusters, './1086/pred-1086', './1086/test-1086/', \"One File - 1086.txt\", \"1\")\n"
   ]
  },
  {
   "cell_type": "code",
   "execution_count": 5,
   "id": "762d3c93",
   "metadata": {},
   "outputs": [
    {
     "name": "stdout",
     "output_type": "stream",
     "text": [
      "NO CLUSTERING - CLUSTERS = 100\n",
      "\n",
      "RSME PER CLUSTER:\n",
      "0.7468330624763645\n",
      "\n",
      "MAPE PER CLUSTER:\n",
      "33.86146871268513\n",
      "\n",
      "Overall RMSE:  0.7468330624763639\n",
      "Overall MAPE:  33.86146871268514\n"
     ]
    }
   ],
   "source": [
    "clusters = [['3081.txt', '2202.txt', '4129.txt', '4111.txt', '1055.txt', '3871.txt', '2776.txt', '3050.txt', '3133.txt', '3046.txt', '1839.txt', '3585.txt', '3036.txt', '2315.txt', '3427.txt', '1180.txt', '1343.txt', '2065.txt', '2529.txt', '3820.txt', '3599.txt', '3167.txt', '1980.txt', '3617.txt', '2680.txt', '3777.txt', '1809.txt', '2791.txt', '2828.txt', '2964.txt', '3931.txt', '1711.txt', '1117.txt', '3073.txt', '1318.txt', '2574.txt', '1727.txt', '1447.txt', '3195.txt', '2922.txt', '1143.txt', '2474.txt', '1627.txt', '2647.txt', '3405.txt', '2536.txt', '1660.txt', '1059.txt', '4121.txt', '2838.txt', '1840.txt', '4076.txt', '2407.txt', '3296.txt', '3447.txt', '4049.txt', '1904.txt', '1086.txt', '3497.txt', '3910.txt', '2239.txt', '1081.txt', '2301.txt', '2067.txt', '1619.txt', '2304.txt', '3346.txt', '3781.txt', '2893.txt', '2501.txt', '1950.txt', '2685.txt', '2121.txt', '2519.txt', '3349.txt', '1827.txt', '2081.txt', '2522.txt', '1610.txt', '3359.txt', '1404.txt', '1834.txt', '2235.txt', '1113.txt', '3843.txt', '2593.txt', '1515.txt', '2424.txt', '4055.txt', '1312.txt', '1115.txt', '3884.txt', '1063.txt', '2595.txt', '2436.txt', '2153.txt', '1330.txt', '3041.txt', '3330.txt', '4163.txt']]\n",
    "results(clusters, './no_clustering/pred-no_clustering', './no_clustering/test-no_clustering/', \"NO CLUSTERING\", \"100\")"
   ]
  },
  {
   "cell_type": "code",
   "execution_count": 89,
   "id": "335123b8",
   "metadata": {},
   "outputs": [
    {
     "name": "stdout",
     "output_type": "stream",
     "text": [
      "FUZZY C-MEANS - CLUSTERS = 4\n",
      "\n",
      "RSME PER CLUSTER:\n",
      "0\n",
      "1.1864223187528844\n",
      "0.7475048712409371\n",
      "0.43681566542914313\n",
      "\n",
      "MAPE PER CLUSTER:\n",
      "0\n",
      "30.608721631164705\n",
      "34.156725092403676\n",
      "36.90764313591511\n",
      "\n",
      "Overall RMSE:  0.6223550831867739\n",
      "Overall MAPE:  35.2903623250424\n"
     ]
    }
   ],
   "source": [
    "# SIXTY FILES\n",
    "\n",
    "\n",
    "clusters = [['4154.txt'], \n",
    "            ['1285.txt', '3669.txt', '1568.txt', '3028.txt', '3936.txt', '3885.txt'], \n",
    "            ['2822.txt', '3490.txt', '1278.txt', '1652.txt', '2614.txt', '3394.txt', '2471.txt', '2890.txt', '2460.txt', '3421.txt', '1039.txt', '4009.txt', '3001.txt', '3375.txt', '3406.txt', '2907.txt', '1360.txt', '2119.txt', '3672.txt', '3869.txt', '2780.txt', '3847.txt', '3338.txt'],\n",
    "            ['3650.txt', '4063.txt', '3486.txt', '1086.txt', '1733.txt', '1901.txt', '2211.txt', '3182.txt', '1838.txt', '2885.txt', '3769.txt', '2492.txt', '1170.txt', '2096.txt', '2733.txt', '2041.txt', '3822.txt', '2137.txt', '2494.txt', '1149.txt', '2118.txt', '1516.txt', '3843.txt', '3060.txt', '1716.txt', '2555.txt', '1706.txt', '3850.txt', '2623.txt', '1513.txt']]\n",
    "results(clusters, './num_clust_four/pred-fuzzycmeans', './num_clust_four/test-fuzzycmeans/', \"FUZZY C-MEANS\", \"4\")"
   ]
  },
  {
   "cell_type": "code",
   "execution_count": 7,
   "id": "e3b43a76",
   "metadata": {},
   "outputs": [
    {
     "name": "stdout",
     "output_type": "stream",
     "text": [
      "HIERARCHICAL - CLUSTERS = 4\n",
      "\n",
      "RSME PER CLUSTER:\n",
      "1.194247559117901\n",
      "0.7083205736262473\n",
      "0\n",
      "0.45621066257346116\n",
      "\n",
      "MAPE PER CLUSTER:\n",
      "73.52025102487804\n",
      "71.20217880057822\n",
      "0\n",
      "88.54502660089227\n",
      "\n",
      "Overall RMSE:  0.616560957466651\n",
      "Overall MAPE:  80.21216331955328\n"
     ]
    }
   ],
   "source": [
    "clusters = [['1285.txt', '3669.txt', '1568.txt', '3028.txt', '3936.txt', '3885.txt'], \n",
    "            ['2822.txt', '3490.txt', '1278.txt', '1652.txt', '2614.txt', '3394.txt', '2471.txt', '2890.txt', '2460.txt', '3421.txt', '1039.txt', '3001.txt', '2096.txt', '3375.txt', '3406.txt', '1360.txt', '2119.txt', '3672.txt', '3869.txt', '3850.txt', '2780.txt', '3847.txt', '3338.txt'], \n",
    "            ['4154.txt'], \n",
    "            ['3650.txt', '4063.txt', '3486.txt', '1086.txt', '1733.txt', '1901.txt', '2211.txt', '3182.txt', '1838.txt', '2885.txt', '3769.txt', '4009.txt', '2492.txt', '1170.txt', '2733.txt', '2041.txt', '3822.txt', '2137.txt', '2907.txt', '2494.txt', '1149.txt', '2118.txt', '1516.txt', '3843.txt', '3060.txt', '1716.txt', '2555.txt', '1706.txt', '2623.txt', '1513.txt']]\n",
    "results(clusters, './num_clust_four/pred-hierarchical', './num_clust_four/test-hierarchical/', \"HIERARCHICAL\", \"4\")\n"
   ]
  },
  {
   "cell_type": "code",
   "execution_count": 9,
   "id": "95257189",
   "metadata": {},
   "outputs": [
    {
     "name": "stdout",
     "output_type": "stream",
     "text": [
      "MINI BATCH K-MEANS - CLUSTERS = 4\n",
      "\n",
      "RSME PER CLUSTER:\n",
      "0.9107433715109994\n",
      "0.5573893274198779\n",
      "0.3337557871925673\n",
      "0.7559806494918595\n",
      "\n",
      "MAPE PER CLUSTER:\n",
      "68.80480745625559\n",
      "89.88440535444407\n",
      "79.00398830474504\n",
      "74.42480618387643\n",
      "\n",
      "Overall RMSE:  0.6290071470152616\n",
      "Overall MAPE:  77.34561603633877\n"
     ]
    }
   ],
   "source": [
    "clusters = [['2822.txt', '1285.txt', '3669.txt', '2614.txt', '1568.txt', '3394.txt', '2460.txt', '3028.txt', '4154.txt', '3375.txt', '1360.txt', '3936.txt', '3672.txt', '2780.txt', '3847.txt', '3885.txt'], \n",
    "            ['3650.txt', '2211.txt', '1838.txt', '2885.txt', '1170.txt', '2733.txt', '2041.txt', '2494.txt', '3843.txt', '2555.txt', '1513.txt'], \n",
    "            ['4063.txt', '3486.txt', '1086.txt', '1733.txt', '1901.txt', '3182.txt', '3769.txt', '2492.txt', '2096.txt', '2137.txt', '1149.txt', '2118.txt', '1516.txt', '3060.txt', '1716.txt', '1706.txt', '3850.txt', '2623.txt'], \n",
    "            ['3490.txt', '1278.txt', '1652.txt', '2471.txt', '2890.txt', '3421.txt', '1039.txt', '4009.txt', '3001.txt', '3822.txt', '3406.txt', '2907.txt', '2119.txt', '3869.txt', '3338.txt']]\n",
    "results(clusters, './num_clust_four/pred-minibatchkmeans', './num_clust_four/test-minibatchkmeans/', \"MINI BATCH K-MEANS\", \"4\")\n"
   ]
  },
  {
   "cell_type": "code",
   "execution_count": 12,
   "id": "9c383348",
   "metadata": {},
   "outputs": [
    {
     "name": "stdout",
     "output_type": "stream",
     "text": [
      "K-MEANS - CLUSTERS = 5\n",
      "\n",
      "RSME PER CLUSTER:\n",
      "0.7222895997668031\n",
      "1.155115411494478\n",
      "0.4433597897988019\n",
      "0\n",
      "0\n",
      "\n",
      "MAPE PER CLUSTER:\n",
      "71.04089356579173\n",
      "82.19505669944462\n",
      "80.79868780714826\n",
      "0\n",
      "0\n",
      "\n",
      "Overall RMSE:  0.6075965538763627\n",
      "Overall MAPE:  77.03777830716147\n"
     ]
    }
   ],
   "source": [
    "clusters = [['2822.txt', '3490.txt', '1278.txt', '1652.txt', '2614.txt', '3394.txt', '2471.txt', '2890.txt', '2460.txt', '3421.txt', '1039.txt', '3001.txt', '3375.txt', '3406.txt', '2907.txt', '1360.txt', '2119.txt', '3672.txt', '3869.txt', '2780.txt', '3847.txt', '3338.txt'], \n",
    "            ['1285.txt', '3669.txt', '3028.txt', '3936.txt', '3885.txt'], \n",
    "            ['3650.txt', '4063.txt', '3486.txt', '1086.txt', '1733.txt', '1901.txt', '2211.txt', '3182.txt', '1838.txt', '2885.txt', '3769.txt', '4009.txt', '2492.txt', '1170.txt', '2096.txt', '2733.txt', '2041.txt', '3822.txt', '2137.txt', '2494.txt', '1149.txt', '2118.txt', '1516.txt', '3843.txt', '3060.txt', '1716.txt', '2555.txt', '1706.txt', '3850.txt', '2623.txt', '1513.txt'],\n",
    "            ['4154.txt'], \n",
    "            ['1568.txt']]\n",
    "results(clusters, './num_clust_five/pred-kmeans', './num_clust_five/test-kmeans/', \"K-MEANS\", \"5\")\n"
   ]
  },
  {
   "cell_type": "code",
   "execution_count": 13,
   "id": "6afba163",
   "metadata": {},
   "outputs": [
    {
     "name": "stdout",
     "output_type": "stream",
     "text": [
      "FUZZY C-MEANS - CLUSTERS = 5\n",
      "\n",
      "RSME PER CLUSTER:\n",
      "0.36917107212309097\n",
      "1.171138152896876\n",
      "0.7375264758814598\n",
      "0.6257771203820421\n",
      "0\n",
      "\n",
      "MAPE PER CLUSTER:\n",
      "75.62671403020643\n",
      "66.872212980667\n",
      "78.92224598984589\n",
      "68.88970753557516\n",
      "0\n",
      "\n",
      "Overall RMSE:  0.6032149602992286\n",
      "Overall MAPE:  74.81410093830154\n"
     ]
    }
   ],
   "source": [
    "clusters = [['3650.txt', '4063.txt', '3486.txt', '1086.txt', '1733.txt', '1901.txt', '3182.txt', '1838.txt', '3769.txt', '2492.txt', '1170.txt', '2096.txt', '2137.txt', '2494.txt', '1149.txt', '2118.txt', '1516.txt', '3843.txt', '3060.txt', '1716.txt', '2555.txt', '1706.txt', '2623.txt', '1513.txt'], \n",
    "            ['1285.txt', '3669.txt', '1568.txt', '3028.txt', '3936.txt', '3885.txt'], \n",
    "            ['3490.txt', '1278.txt', '2211.txt', '2471.txt', '2885.txt', '2890.txt', '3421.txt', '4009.txt', '3001.txt', '2733.txt', '2041.txt', '3822.txt', '3375.txt', '3406.txt', '2907.txt', '1360.txt', '2119.txt', '3869.txt', '3338.txt'], \n",
    "            ['2822.txt', '1652.txt', '2614.txt', '3394.txt', '2460.txt', '1039.txt', '3672.txt', '3850.txt', '2780.txt', '3847.txt'], \n",
    "            ['4154.txt']]\n",
    "results(clusters, './num_clust_five/pred-fuzzycmeans', './num_clust_five/test-fuzzycmeans/', \"FUZZY C-MEANS\", \"5\")\n"
   ]
  },
  {
   "cell_type": "code",
   "execution_count": 14,
   "id": "acd25769",
   "metadata": {},
   "outputs": [
    {
     "name": "stdout",
     "output_type": "stream",
     "text": [
      "HIERARCHICAL - CLUSTERS = 5\n",
      "\n",
      "RSME PER CLUSTER:\n",
      "1.1558818547926963\n",
      "0.703730697686015\n",
      "0\n",
      "0.4577609956865763\n",
      "0\n",
      "\n",
      "MAPE PER CLUSTER:\n",
      "77.23846861768394\n",
      "70.73442957160098\n",
      "0\n",
      "87.59772952680814\n",
      "0\n",
      "\n",
      "Overall RMSE:  0.6125499934302013\n",
      "Overall MAPE:  79.81603815603353\n"
     ]
    }
   ],
   "source": [
    "clusters = [['1285.txt', '3669.txt', '3028.txt', '3936.txt', '3885.txt'], \n",
    "            ['2822.txt', '3490.txt', '1278.txt', '1652.txt', '2614.txt', '3394.txt', '2471.txt', '2890.txt', '2460.txt', '3421.txt', '1039.txt', '3001.txt', '2096.txt', '3375.txt', '3406.txt', '1360.txt', '2119.txt', '3672.txt', '3869.txt', '3850.txt', '2780.txt', '3847.txt', '3338.txt'],\n",
    "            ['4154.txt'], \n",
    "            ['3650.txt', '4063.txt', '3486.txt', '1086.txt', '1733.txt', '1901.txt', '2211.txt', '3182.txt', '1838.txt', '2885.txt', '3769.txt', '4009.txt', '2492.txt', '1170.txt', '2733.txt', '2041.txt', '3822.txt', '2137.txt', '2907.txt', '2494.txt', '1149.txt', '2118.txt', '1516.txt', '3843.txt', '3060.txt', '1716.txt', '2555.txt', '1706.txt', '2623.txt', '1513.txt'], \n",
    "            ['1568.txt']]\n",
    "results(clusters, './num_clust_five/pred-hierarchical', './num_clust_five/test-hierarchical/', \"HIERARCHICAL\", \"5\")\n"
   ]
  },
  {
   "cell_type": "code",
   "execution_count": 15,
   "id": "37ac9467",
   "metadata": {},
   "outputs": [
    {
     "name": "stdout",
     "output_type": "stream",
     "text": [
      "MINI BATCH K-MEANS - CLUSTERS = 5\n",
      "\n",
      "RSME PER CLUSTER:\n",
      "0.4794456849871015\n",
      "1.1960659082799587\n",
      "0.29542572184094057\n",
      "0.7131982449907488\n",
      "0.67419068265838\n",
      "\n",
      "MAPE PER CLUSTER:\n",
      "92.97593846305475\n",
      "70.6179756629899\n",
      "71.64938099404878\n",
      "68.73029445217391\n",
      "84.96493182021929\n",
      "\n",
      "Overall RMSE:  0.614807044340699\n",
      "Overall MAPE:  77.54490149542049\n"
     ]
    }
   ],
   "source": [
    "clusters = [['3650.txt', '1838.txt', '1716.txt', '2555.txt'], \n",
    "            ['1285.txt', '3669.txt', '1568.txt', '3028.txt', '4154.txt', '3936.txt', '3885.txt'], \n",
    "            ['4063.txt', '3486.txt', '1086.txt', '1733.txt', '1901.txt', '3182.txt', '3769.txt', '2492.txt', '2137.txt', '1149.txt', '2118.txt', '1516.txt', '3060.txt', '1706.txt', '2623.txt'], \n",
    "            ['2822.txt', '2614.txt', '3394.txt', '2471.txt', '2460.txt', '1039.txt', '3375.txt', '3406.txt', '1360.txt', '3672.txt', '2780.txt', '3847.txt'], \n",
    "            ['3490.txt', '1278.txt', '1652.txt', '2211.txt', '2885.txt', '2890.txt', '3421.txt', '4009.txt', '1170.txt', '3001.txt', '2096.txt', '2733.txt', '2041.txt', '3822.txt', '2907.txt', '2494.txt', '2119.txt', '3843.txt', '3869.txt', '3850.txt', '3338.txt', '1513.txt']]\n",
    "results(clusters, './num_clust_five/pred-minibatchkmeans', './num_clust_five/test-minibatchkmeans/', \"MINI BATCH K-MEANS\", \"5\")\n"
   ]
  },
  {
   "cell_type": "code",
   "execution_count": 16,
   "id": "9896ac96",
   "metadata": {},
   "outputs": [
    {
     "name": "stdout",
     "output_type": "stream",
     "text": [
      "K-MEANS - CLUSTERS = 6\n",
      "\n",
      "RSME PER CLUSTER:\n",
      "0.731429502524302\n",
      "1.6059748613210993\n",
      "0.45556399752909194\n",
      "0\n",
      "0.9182181573979274\n",
      "0\n",
      "\n",
      "MAPE PER CLUSTER:\n",
      "72.56897864611786\n",
      "60.16649186764795\n",
      "90.25300011237682\n",
      "0\n",
      "73.83810970587382\n",
      "0\n",
      "\n",
      "Overall RMSE:  0.6127630342894304\n",
      "Overall MAPE:  81.74930897547725\n"
     ]
    }
   ],
   "source": [
    "clusters = [['2822.txt', '3490.txt', '1278.txt', '1652.txt', '2614.txt', '3394.txt', '2471.txt', '2890.txt', '2460.txt', '3421.txt', '1039.txt', '3001.txt', '3375.txt', '3406.txt', '2907.txt', '1360.txt', '2119.txt', '3672.txt', '3869.txt', '2780.txt', '3847.txt', '3338.txt'],\n",
    "            ['3028.txt'], \n",
    "            ['3650.txt', '4063.txt', '3486.txt', '1086.txt', '1733.txt', '1901.txt', '2211.txt', '3182.txt', '1838.txt', '2885.txt', '3769.txt', '4009.txt', '2492.txt', '1170.txt', '2096.txt', '2733.txt', '2041.txt', '3822.txt', '2137.txt', '2494.txt', '1149.txt', '2118.txt', '1516.txt', '3843.txt', '3060.txt', '1716.txt', '2555.txt', '1706.txt', '3850.txt', '2623.txt', '1513.txt'], \n",
    "            ['4154.txt'], \n",
    "            ['1285.txt', '3669.txt', '3936.txt', '3885.txt'], \n",
    "            ['1568.txt']]\n",
    "results(clusters, './num_clust_six/pred-kmeans', './num_clust_six/test-kmeans/', \"K-MEANS\", \"6\")\n"
   ]
  },
  {
   "cell_type": "code",
   "execution_count": 12,
   "id": "2c8979c8",
   "metadata": {},
   "outputs": [
    {
     "name": "stdout",
     "output_type": "stream",
     "text": [
      "0.6668766905453111\n",
      "36.16977931709765\n"
     ]
    }
   ],
   "source": [
    "# NO CLUSTERING\n",
    "onlyfiles = [f for f in listdir('./no_clust_results/pred') if isfile(join('./no_clust_results/pred', f))and f[-4:]==\".csv\"]\n",
    "\n",
    "rm=[]\n",
    "for f in onlyfiles:\n",
    "    pred_df = pd.read_csv('./no_clust_results/pred/'+f, index_col=0)\n",
    "    test_df = pd.read_csv('./no_clust_results/test/'+f, index_col=0)\n",
    "    pred = [pred_df.iloc()[i].tolist() for i in range(len(pred_df))]\n",
    "    test = [test_df.iloc()[i].tolist() for i in range(len(test_df))]\n",
    "    rm.append(rmse(pred,test))\n",
    "print(sum(rm)/len(rm))\n",
    "\n",
    "\n",
    "rm=[]\n",
    "for f in onlyfiles:\n",
    "    pred_df = pd.read_csv('./no_clust_results/pred/'+f, index_col=0)\n",
    "    test_df = pd.read_csv('./no_clust_results/test/'+f, index_col=0)\n",
    "    pred = [pred_df.iloc()[i].tolist() for i in range(len(pred_df))]\n",
    "    test = [test_df.iloc()[i].tolist() for i in range(len(test_df))]\n",
    "    rm.append(MAPE(pred,test))\n",
    "print(sum(rm)/len(rm))"
   ]
  },
  {
   "cell_type": "code",
   "execution_count": 7,
   "id": "4beb6011",
   "metadata": {},
   "outputs": [
    {
     "name": "stdout",
     "output_type": "stream",
     "text": [
      "FUZZY CMEANS - CLUSTERS = 4\n",
      "RSME PER CLUSTER:\n",
      "0\n",
      "1.1864223187528844\n",
      "0.7475048712409371\n",
      "0.43681566542914313\n",
      "\n",
      "MAPE PER CLUSTER:\n",
      "0\n",
      "63.085702192458015\n",
      "77.79756638655168\n",
      "84.09450372365308\n",
      "Overall RMSE:  0.6223550831867739\n",
      "Overall MAPE:  79.89511075118116\n"
     ]
    }
   ],
   "source": [
    "# WITHOUT FUNCTION\n",
    "# # FUZZY CMEANS - CLUST = 4\n",
    "# clusters = [['4154.txt'], \n",
    "#             ['1285.txt', '3669.txt', '1568.txt', '3028.txt', '3936.txt', '3885.txt'], \n",
    "#             ['2822.txt', '3490.txt', '1278.txt', '1652.txt', '2614.txt', '3394.txt', '2471.txt', '2890.txt', '2460.txt', '3421.txt', '1039.txt', '4009.txt', '3001.txt', '3375.txt', '3406.txt', '2907.txt', '1360.txt', '2119.txt', '3672.txt', '3869.txt', '2780.txt', '3847.txt', '3338.txt'],\n",
    "#             ['3650.txt', '4063.txt', '3486.txt', '1086.txt', '1733.txt', '1901.txt', '2211.txt', '3182.txt', '1838.txt', '2885.txt', '3769.txt', '2492.txt', '1170.txt', '2096.txt', '2733.txt', '2041.txt', '3822.txt', '2137.txt', '2494.txt', '1149.txt', '2118.txt', '1516.txt', '3843.txt', '3060.txt', '1716.txt', '2555.txt', '1706.txt', '3850.txt', '2623.txt', '1513.txt']]\n",
    "# onlyfiles = [f for f in listdir('./num_clust_four/pred-fuzzycmeans') if isfile(join('./num_clust_four/pred-fuzzycmeans', f))]\n",
    "# csv_clusters = make_clust_w_csv(clusters, onlyfiles)\n",
    "\n",
    "# # average per cluster\n",
    "# rm3 = []\n",
    "# for i in range(len(clusters)):\n",
    "#     rm3.append([])\n",
    "# rm4 = []\n",
    "# for i in range(len(clusters)):\n",
    "#     rm4.append([])\n",
    "\n",
    "# num_of_clust=0\n",
    "# for i in csv_clusters:\n",
    "#     num_of_clust+=1\n",
    "#     for j in i:\n",
    "#         pred_df = pd.read_csv('./num_clust_four/pred-fuzzycmeans/'+j, index_col=0)\n",
    "#         test_df = pd.read_csv('./num_clust_four/test-fuzzycmeans/'+j, index_col=0)\n",
    "#         pred = [pred_df.iloc()[i].tolist() for i in range(len(pred_df))]\n",
    "#         test = [test_df.iloc()[i].tolist() for i in range(len(test_df))]\n",
    "#         rm3[num_of_clust-1].append(rmse(pred,test))\n",
    "#         rm4[num_of_clust-1].append(MAPE(pred,test))\n",
    "\n",
    "# print(\"FUZZY CMEANS - CLUSTERS = 4\")\n",
    "# print(\"RSME PER CLUSTER:\")\n",
    "# for i in range(len(rm3)):\n",
    "#     if (sum(rm3[i]))==0:\n",
    "#         print('0')\n",
    "#     else:\n",
    "#         print(sum(rm3[i])/len(rm3[i]))\n",
    "# print(\"\\nMAPE PER CLUSTER:\")\n",
    "# for i in range(len(rm4)):\n",
    "#     if (sum(rm4[i]))==0:\n",
    "#         print('0')\n",
    "#     else:\n",
    "#         print(sum(rm4[i])/len(rm4[i]))\n",
    "        \n",
    "# # overall average\n",
    "# # onlyfiles = [f for f in listdir('./num_clust_four/pred-fuzzycmeans') if isfile(join('./num_clust_four/pred-fuzzycmeans', f))]\n",
    "# rm1=[]\n",
    "# rm2=[]\n",
    "# for f in onlyfiles:\n",
    "#     pred_df = pd.read_csv('./num_clust_four/pred-fuzzycmeans/'+f, index_col=0)\n",
    "#     test_df = pd.read_csv('./num_clust_four/test-fuzzycmeans/'+f, index_col=0)\n",
    "#     pred = [pred_df.iloc()[i].tolist() for i in range(len(pred_df))]\n",
    "#     test = [test_df.iloc()[i].tolist() for i in range(len(test_df))]\n",
    "#     rm1.append(rmse(pred,test))\n",
    "#     rm2.append(MAPE(pred,test))\n",
    "# print(\"\\nOverall RMSE: \", sum(rm1)/len(rm1))\n",
    "# print(\"Overall MAPE: \", sum(rm2)/len(rm2))\n",
    "\n",
    "# # overall RMSE and MAPE are not averages of each cluster, they are a total average\n",
    "\n",
    "\n",
    "\n",
    "\n",
    "# KMEANS - CLUST = 4\n",
    "\n",
    "# onlyfiles = [f for f in listdir('./fed_weight_clust/pred') if isfile(join('./fed_weight_clust/pred', f))]\n",
    "# onlyfiles = [f for f in listdir('./num_clust_four/pred-kmeans') if isfile(join('./num_clust_four/pred-kmeans', f))]\n",
    "# rm1=[]\n",
    "# rm2=[]\n",
    "# for f in onlyfiles:\n",
    "#     pred_df = pd.read_csv('./num_clust_four/pred-kmeans/'+f, index_col=0)\n",
    "#     test_df = pd.read_csv('./num_clust_four/test-kmeans/'+f, index_col=0)\n",
    "#     pred = [pred_df.iloc()[i].tolist() for i in range(len(pred_df))]\n",
    "#     test = [test_df.iloc()[i].tolist() for i in range(len(test_df))]\n",
    "#     rm1.append(rmse(pred,test))\n",
    "#     rm2.append(MAPE(pred,test))\n",
    "    \n",
    "    \n",
    "\n",
    "# print(\"KMEANS - CLUSTERS = 4\")\n",
    "# print(rm1)\n",
    "# print(len(rm1))\n",
    "# print(\"RMSE: \", sum(rm1)/len(rm1))\n",
    "# print(\"\\n\", rm2)\n",
    "# print(\"MAPE: \", sum(rm2)/len(rm2))"
   ]
  },
  {
   "cell_type": "code",
   "execution_count": null,
   "id": "ed197f2b",
   "metadata": {},
   "outputs": [],
   "source": []
  }
 ],
 "metadata": {
  "kernelspec": {
   "display_name": "Python 3 (ipykernel)",
   "language": "python",
   "name": "python3"
  },
  "language_info": {
   "codemirror_mode": {
    "name": "ipython",
    "version": 3
   },
   "file_extension": ".py",
   "mimetype": "text/x-python",
   "name": "python",
   "nbconvert_exporter": "python",
   "pygments_lexer": "ipython3",
   "version": "3.9.12"
  }
 },
 "nbformat": 4,
 "nbformat_minor": 5
}
